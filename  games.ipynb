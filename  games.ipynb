{
 "cells": [
  {
   "cell_type": "markdown",
   "metadata": {},
   "source": [
    "# Анализ и предсказание продаж по компьютерным играм"
   ]
  },
  {
   "cell_type": "markdown",
   "metadata": {},
   "source": [
    "**Описание проекта**\n",
    "\n",
    "Из открытых источников доступны исторические данные о продажах игр, оценки пользователей и экспертов, жанры и платформы (например, Xbox или PlayStation). Необходимо выявить определяющие успешность игры закономерности. Это позволит сделать ставку на потенциально популярный продукт и спланировать рекламные кампании.\n",
    "\n",
    "**Описание данных**\n",
    "\n",
    "•\tName — название игры\n",
    "\n",
    "•\tPlatform — платформа\n",
    "\n",
    "•\tYear_of_Release — год выпуска\n",
    "\n",
    "•\tGenre — жанр игры\n",
    "\n",
    "•\tNA_sales — продажи в Северной Америке (миллионы проданных копий)\n",
    "\n",
    "•\tEU_sales — продажи в Европе (миллионы проданных копий)\n",
    "\n",
    "•\tJP_sales — продажи в Японии (миллионы проданных копий)\n",
    "\n",
    "•\tOther_sales — продажи в других странах (миллионы проданных копий)\n",
    "\n",
    "•\tCritic_Score — оценка критиков (максимум 100)\n",
    "\n",
    "•\tUser_Score — оценка пользователей (максимум 10)\n",
    "\n",
    "•\tRating — рейтинг от организации ESRB (англ. Entertainment Software Rating Board). Эта ассоциация определяет рейтинг компьютерных игр и присваивает им подходящую возрастную категорию.\n",
    "Данные за 2016 год могут быть неполными.\n",
    "\n",
    "**План работы с проектом**\n",
    "\n",
    "1. Изучение данных\n",
    "2. Подготовка данных\n",
    "3. Проведем исследовательский анализ данных\n",
    "4. Составим портрет пользователя каждого региона\n",
    "5. Проверим гипотезы\n",
    "6. Напишем общий вывод\n"
   ]
  },
  {
   "cell_type": "markdown",
   "metadata": {},
   "source": [
    "## Изучение данных"
   ]
  },
  {
   "cell_type": "code",
   "execution_count": 1,
   "metadata": {},
   "outputs": [],
   "source": [
    "import pandas as pd\n",
    "import matplotlib.pyplot as plt\n",
    "%matplotlib inline\n",
    "import seaborn as sns\n",
    "import numpy as np\n",
    "from scipy import stats as st"
   ]
  },
  {
   "cell_type": "code",
   "execution_count": 2,
   "metadata": {},
   "outputs": [],
   "source": [
    "df = pd.read_csv('/datasets/games.csv')"
   ]
  },
  {
   "cell_type": "code",
   "execution_count": 3,
   "metadata": {},
   "outputs": [
    {
     "data": {
      "text/html": [
       "<div>\n",
       "<style scoped>\n",
       "    .dataframe tbody tr th:only-of-type {\n",
       "        vertical-align: middle;\n",
       "    }\n",
       "\n",
       "    .dataframe tbody tr th {\n",
       "        vertical-align: top;\n",
       "    }\n",
       "\n",
       "    .dataframe thead th {\n",
       "        text-align: right;\n",
       "    }\n",
       "</style>\n",
       "<table border=\"1\" class=\"dataframe\">\n",
       "  <thead>\n",
       "    <tr style=\"text-align: right;\">\n",
       "      <th></th>\n",
       "      <th>Name</th>\n",
       "      <th>Platform</th>\n",
       "      <th>Year_of_Release</th>\n",
       "      <th>Genre</th>\n",
       "      <th>NA_sales</th>\n",
       "      <th>EU_sales</th>\n",
       "      <th>JP_sales</th>\n",
       "      <th>Other_sales</th>\n",
       "      <th>Critic_Score</th>\n",
       "      <th>User_Score</th>\n",
       "      <th>Rating</th>\n",
       "    </tr>\n",
       "  </thead>\n",
       "  <tbody>\n",
       "    <tr>\n",
       "      <td>0</td>\n",
       "      <td>Wii Sports</td>\n",
       "      <td>Wii</td>\n",
       "      <td>2006.0</td>\n",
       "      <td>Sports</td>\n",
       "      <td>41.36</td>\n",
       "      <td>28.96</td>\n",
       "      <td>3.77</td>\n",
       "      <td>8.45</td>\n",
       "      <td>76.0</td>\n",
       "      <td>8</td>\n",
       "      <td>E</td>\n",
       "    </tr>\n",
       "    <tr>\n",
       "      <td>1</td>\n",
       "      <td>Super Mario Bros.</td>\n",
       "      <td>NES</td>\n",
       "      <td>1985.0</td>\n",
       "      <td>Platform</td>\n",
       "      <td>29.08</td>\n",
       "      <td>3.58</td>\n",
       "      <td>6.81</td>\n",
       "      <td>0.77</td>\n",
       "      <td>NaN</td>\n",
       "      <td>NaN</td>\n",
       "      <td>NaN</td>\n",
       "    </tr>\n",
       "    <tr>\n",
       "      <td>2</td>\n",
       "      <td>Mario Kart Wii</td>\n",
       "      <td>Wii</td>\n",
       "      <td>2008.0</td>\n",
       "      <td>Racing</td>\n",
       "      <td>15.68</td>\n",
       "      <td>12.76</td>\n",
       "      <td>3.79</td>\n",
       "      <td>3.29</td>\n",
       "      <td>82.0</td>\n",
       "      <td>8.3</td>\n",
       "      <td>E</td>\n",
       "    </tr>\n",
       "    <tr>\n",
       "      <td>3</td>\n",
       "      <td>Wii Sports Resort</td>\n",
       "      <td>Wii</td>\n",
       "      <td>2009.0</td>\n",
       "      <td>Sports</td>\n",
       "      <td>15.61</td>\n",
       "      <td>10.93</td>\n",
       "      <td>3.28</td>\n",
       "      <td>2.95</td>\n",
       "      <td>80.0</td>\n",
       "      <td>8</td>\n",
       "      <td>E</td>\n",
       "    </tr>\n",
       "    <tr>\n",
       "      <td>4</td>\n",
       "      <td>Pokemon Red/Pokemon Blue</td>\n",
       "      <td>GB</td>\n",
       "      <td>1996.0</td>\n",
       "      <td>Role-Playing</td>\n",
       "      <td>11.27</td>\n",
       "      <td>8.89</td>\n",
       "      <td>10.22</td>\n",
       "      <td>1.00</td>\n",
       "      <td>NaN</td>\n",
       "      <td>NaN</td>\n",
       "      <td>NaN</td>\n",
       "    </tr>\n",
       "    <tr>\n",
       "      <td>...</td>\n",
       "      <td>...</td>\n",
       "      <td>...</td>\n",
       "      <td>...</td>\n",
       "      <td>...</td>\n",
       "      <td>...</td>\n",
       "      <td>...</td>\n",
       "      <td>...</td>\n",
       "      <td>...</td>\n",
       "      <td>...</td>\n",
       "      <td>...</td>\n",
       "      <td>...</td>\n",
       "    </tr>\n",
       "    <tr>\n",
       "      <td>16710</td>\n",
       "      <td>Samurai Warriors: Sanada Maru</td>\n",
       "      <td>PS3</td>\n",
       "      <td>2016.0</td>\n",
       "      <td>Action</td>\n",
       "      <td>0.00</td>\n",
       "      <td>0.00</td>\n",
       "      <td>0.01</td>\n",
       "      <td>0.00</td>\n",
       "      <td>NaN</td>\n",
       "      <td>NaN</td>\n",
       "      <td>NaN</td>\n",
       "    </tr>\n",
       "    <tr>\n",
       "      <td>16711</td>\n",
       "      <td>LMA Manager 2007</td>\n",
       "      <td>X360</td>\n",
       "      <td>2006.0</td>\n",
       "      <td>Sports</td>\n",
       "      <td>0.00</td>\n",
       "      <td>0.01</td>\n",
       "      <td>0.00</td>\n",
       "      <td>0.00</td>\n",
       "      <td>NaN</td>\n",
       "      <td>NaN</td>\n",
       "      <td>NaN</td>\n",
       "    </tr>\n",
       "    <tr>\n",
       "      <td>16712</td>\n",
       "      <td>Haitaka no Psychedelica</td>\n",
       "      <td>PSV</td>\n",
       "      <td>2016.0</td>\n",
       "      <td>Adventure</td>\n",
       "      <td>0.00</td>\n",
       "      <td>0.00</td>\n",
       "      <td>0.01</td>\n",
       "      <td>0.00</td>\n",
       "      <td>NaN</td>\n",
       "      <td>NaN</td>\n",
       "      <td>NaN</td>\n",
       "    </tr>\n",
       "    <tr>\n",
       "      <td>16713</td>\n",
       "      <td>Spirits &amp; Spells</td>\n",
       "      <td>GBA</td>\n",
       "      <td>2003.0</td>\n",
       "      <td>Platform</td>\n",
       "      <td>0.01</td>\n",
       "      <td>0.00</td>\n",
       "      <td>0.00</td>\n",
       "      <td>0.00</td>\n",
       "      <td>NaN</td>\n",
       "      <td>NaN</td>\n",
       "      <td>NaN</td>\n",
       "    </tr>\n",
       "    <tr>\n",
       "      <td>16714</td>\n",
       "      <td>Winning Post 8 2016</td>\n",
       "      <td>PSV</td>\n",
       "      <td>2016.0</td>\n",
       "      <td>Simulation</td>\n",
       "      <td>0.00</td>\n",
       "      <td>0.00</td>\n",
       "      <td>0.01</td>\n",
       "      <td>0.00</td>\n",
       "      <td>NaN</td>\n",
       "      <td>NaN</td>\n",
       "      <td>NaN</td>\n",
       "    </tr>\n",
       "  </tbody>\n",
       "</table>\n",
       "<p>16715 rows × 11 columns</p>\n",
       "</div>"
      ],
      "text/plain": [
       "                                Name Platform  Year_of_Release         Genre  \\\n",
       "0                         Wii Sports      Wii           2006.0        Sports   \n",
       "1                  Super Mario Bros.      NES           1985.0      Platform   \n",
       "2                     Mario Kart Wii      Wii           2008.0        Racing   \n",
       "3                  Wii Sports Resort      Wii           2009.0        Sports   \n",
       "4           Pokemon Red/Pokemon Blue       GB           1996.0  Role-Playing   \n",
       "...                              ...      ...              ...           ...   \n",
       "16710  Samurai Warriors: Sanada Maru      PS3           2016.0        Action   \n",
       "16711               LMA Manager 2007     X360           2006.0        Sports   \n",
       "16712        Haitaka no Psychedelica      PSV           2016.0     Adventure   \n",
       "16713               Spirits & Spells      GBA           2003.0      Platform   \n",
       "16714            Winning Post 8 2016      PSV           2016.0    Simulation   \n",
       "\n",
       "       NA_sales  EU_sales  JP_sales  Other_sales  Critic_Score User_Score  \\\n",
       "0         41.36     28.96      3.77         8.45          76.0          8   \n",
       "1         29.08      3.58      6.81         0.77           NaN        NaN   \n",
       "2         15.68     12.76      3.79         3.29          82.0        8.3   \n",
       "3         15.61     10.93      3.28         2.95          80.0          8   \n",
       "4         11.27      8.89     10.22         1.00           NaN        NaN   \n",
       "...         ...       ...       ...          ...           ...        ...   \n",
       "16710      0.00      0.00      0.01         0.00           NaN        NaN   \n",
       "16711      0.00      0.01      0.00         0.00           NaN        NaN   \n",
       "16712      0.00      0.00      0.01         0.00           NaN        NaN   \n",
       "16713      0.01      0.00      0.00         0.00           NaN        NaN   \n",
       "16714      0.00      0.00      0.01         0.00           NaN        NaN   \n",
       "\n",
       "      Rating  \n",
       "0          E  \n",
       "1        NaN  \n",
       "2          E  \n",
       "3          E  \n",
       "4        NaN  \n",
       "...      ...  \n",
       "16710    NaN  \n",
       "16711    NaN  \n",
       "16712    NaN  \n",
       "16713    NaN  \n",
       "16714    NaN  \n",
       "\n",
       "[16715 rows x 11 columns]"
      ]
     },
     "execution_count": 3,
     "metadata": {},
     "output_type": "execute_result"
    }
   ],
   "source": [
    "#ознакомимся с данными\n",
    "df"
   ]
  },
  {
   "cell_type": "code",
   "execution_count": 4,
   "metadata": {},
   "outputs": [
    {
     "name": "stdout",
     "output_type": "stream",
     "text": [
      "<class 'pandas.core.frame.DataFrame'>\n",
      "RangeIndex: 16715 entries, 0 to 16714\n",
      "Data columns (total 11 columns):\n",
      "Name               16713 non-null object\n",
      "Platform           16715 non-null object\n",
      "Year_of_Release    16446 non-null float64\n",
      "Genre              16713 non-null object\n",
      "NA_sales           16715 non-null float64\n",
      "EU_sales           16715 non-null float64\n",
      "JP_sales           16715 non-null float64\n",
      "Other_sales        16715 non-null float64\n",
      "Critic_Score       8137 non-null float64\n",
      "User_Score         10014 non-null object\n",
      "Rating             9949 non-null object\n",
      "dtypes: float64(6), object(5)\n",
      "memory usage: 1.4+ MB\n"
     ]
    }
   ],
   "source": [
    "#посмотрим информацию о нашей таблице\n",
    "df.info()"
   ]
  },
  {
   "cell_type": "code",
   "execution_count": 5,
   "metadata": {},
   "outputs": [
    {
     "data": {
      "text/plain": [
       "Name                  2\n",
       "Platform              0\n",
       "Year_of_Release     269\n",
       "Genre                 2\n",
       "NA_sales              0\n",
       "EU_sales              0\n",
       "JP_sales              0\n",
       "Other_sales           0\n",
       "Critic_Score       8578\n",
       "User_Score         6701\n",
       "Rating             6766\n",
       "dtype: int64"
      ]
     },
     "execution_count": 5,
     "metadata": {},
     "output_type": "execute_result"
    }
   ],
   "source": [
    "#посчитаем пустые значения\n",
    "df.isna().sum()"
   ]
  },
  {
   "cell_type": "code",
   "execution_count": 6,
   "metadata": {},
   "outputs": [
    {
     "data": {
      "text/plain": [
       "PS2     2161\n",
       "DS      2151\n",
       "PS3     1331\n",
       "Wii     1320\n",
       "X360    1262\n",
       "PSP     1209\n",
       "PS      1197\n",
       "PC       974\n",
       "XB       824\n",
       "GBA      822\n",
       "GC       556\n",
       "3DS      520\n",
       "PSV      430\n",
       "PS4      392\n",
       "N64      319\n",
       "XOne     247\n",
       "SNES     239\n",
       "SAT      173\n",
       "WiiU     147\n",
       "2600     133\n",
       "NES       98\n",
       "GB        98\n",
       "DC        52\n",
       "GEN       29\n",
       "NG        12\n",
       "SCD        6\n",
       "WS         6\n",
       "3DO        3\n",
       "TG16       2\n",
       "GG         1\n",
       "PCFX       1\n",
       "Name: Platform, dtype: int64"
      ]
     },
     "execution_count": 6,
     "metadata": {},
     "output_type": "execute_result"
    }
   ],
   "source": [
    "#изучим какие платформы у нас имеются\n",
    "df['Platform'].value_counts()"
   ]
  },
  {
   "cell_type": "code",
   "execution_count": 7,
   "metadata": {},
   "outputs": [
    {
     "data": {
      "text/plain": [
       "Action          3369\n",
       "Sports          2348\n",
       "Misc            1750\n",
       "Role-Playing    1498\n",
       "Shooter         1323\n",
       "Adventure       1303\n",
       "Racing          1249\n",
       "Platform         888\n",
       "Simulation       873\n",
       "Fighting         849\n",
       "Strategy         683\n",
       "Puzzle           580\n",
       "Name: Genre, dtype: int64"
      ]
     },
     "execution_count": 7,
     "metadata": {},
     "output_type": "execute_result"
    }
   ],
   "source": [
    "#так же проверим имеющиеся жанры\n",
    "df['Genre'].value_counts()"
   ]
  },
  {
   "cell_type": "code",
   "execution_count": 8,
   "metadata": {},
   "outputs": [
    {
     "data": {
      "text/plain": [
       "0"
      ]
     },
     "execution_count": 8,
     "metadata": {},
     "output_type": "execute_result"
    }
   ],
   "source": [
    "#посмотрим имеются ли дубликаты\n",
    "df.duplicated().sum()"
   ]
  },
  {
   "cell_type": "markdown",
   "metadata": {},
   "source": [
    "**Вывод**\n",
    "\n",
    "Cтолбец Year of Release нужно привести к типу int.\n",
    "User_Score к типу float.\n",
    "\n",
    "Нужно привести к нижнему регистру столбцы нашей таблицы и названия колонок.\n",
    "\n",
    "Много пустых значений в столбцах Year_of_Release, Rating, User_Score, Critic_Score. \n",
    "Один из вариантов - это  замена имеющихся пустых значений в таблице: Year_of_Release - на года от той же игры, в остальном в ходе предоработки понять следует ли заменять.\n",
    "\n",
    "Но есть и хорошая новость -  отсутствие дубликатов."
   ]
  },
  {
   "cell_type": "markdown",
   "metadata": {},
   "source": [
    "## Подготовка данных"
   ]
  },
  {
   "cell_type": "code",
   "execution_count": 9,
   "metadata": {},
   "outputs": [
    {
     "data": {
      "text/plain": [
       "Index(['name', 'platform', 'year_of_release', 'genre', 'na_sales', 'eu_sales',\n",
       "       'jp_sales', 'other_sales', 'critic_score', 'user_score', 'rating'],\n",
       "      dtype='object')"
      ]
     },
     "execution_count": 9,
     "metadata": {},
     "output_type": "execute_result"
    }
   ],
   "source": [
    "# приведем к нижнему регистру названия столбцов\n",
    "df.columns = df.columns.str.lower()\n",
    "df.columns"
   ]
  },
  {
   "cell_type": "code",
   "execution_count": 10,
   "metadata": {},
   "outputs": [],
   "source": [
    "# изменим тип данных в столбце \n",
    "df['year_of_release'] = df['year_of_release'].astype('Int64')"
   ]
  },
  {
   "cell_type": "code",
   "execution_count": 11,
   "metadata": {
    "scrolled": true
   },
   "outputs": [
    {
     "data": {
      "text/html": [
       "<div>\n",
       "<style scoped>\n",
       "    .dataframe tbody tr th:only-of-type {\n",
       "        vertical-align: middle;\n",
       "    }\n",
       "\n",
       "    .dataframe tbody tr th {\n",
       "        vertical-align: top;\n",
       "    }\n",
       "\n",
       "    .dataframe thead th {\n",
       "        text-align: right;\n",
       "    }\n",
       "</style>\n",
       "<table border=\"1\" class=\"dataframe\">\n",
       "  <thead>\n",
       "    <tr style=\"text-align: right;\">\n",
       "      <th></th>\n",
       "      <th>name</th>\n",
       "      <th>platform</th>\n",
       "      <th>year_of_release</th>\n",
       "      <th>genre</th>\n",
       "      <th>na_sales</th>\n",
       "      <th>eu_sales</th>\n",
       "      <th>jp_sales</th>\n",
       "      <th>other_sales</th>\n",
       "      <th>critic_score</th>\n",
       "      <th>user_score</th>\n",
       "      <th>rating</th>\n",
       "    </tr>\n",
       "  </thead>\n",
       "  <tbody>\n",
       "    <tr>\n",
       "      <td>0</td>\n",
       "      <td>Wii Sports</td>\n",
       "      <td>Wii</td>\n",
       "      <td>2006</td>\n",
       "      <td>Sports</td>\n",
       "      <td>41.36</td>\n",
       "      <td>28.96</td>\n",
       "      <td>3.77</td>\n",
       "      <td>8.45</td>\n",
       "      <td>76.0</td>\n",
       "      <td>8</td>\n",
       "      <td>E</td>\n",
       "    </tr>\n",
       "    <tr>\n",
       "      <td>1</td>\n",
       "      <td>Super Mario Bros.</td>\n",
       "      <td>NES</td>\n",
       "      <td>1985</td>\n",
       "      <td>Platform</td>\n",
       "      <td>29.08</td>\n",
       "      <td>3.58</td>\n",
       "      <td>6.81</td>\n",
       "      <td>0.77</td>\n",
       "      <td>NaN</td>\n",
       "      <td>NaN</td>\n",
       "      <td>NaN</td>\n",
       "    </tr>\n",
       "    <tr>\n",
       "      <td>2</td>\n",
       "      <td>Mario Kart Wii</td>\n",
       "      <td>Wii</td>\n",
       "      <td>2008</td>\n",
       "      <td>Racing</td>\n",
       "      <td>15.68</td>\n",
       "      <td>12.76</td>\n",
       "      <td>3.79</td>\n",
       "      <td>3.29</td>\n",
       "      <td>82.0</td>\n",
       "      <td>8.3</td>\n",
       "      <td>E</td>\n",
       "    </tr>\n",
       "    <tr>\n",
       "      <td>3</td>\n",
       "      <td>Wii Sports Resort</td>\n",
       "      <td>Wii</td>\n",
       "      <td>2009</td>\n",
       "      <td>Sports</td>\n",
       "      <td>15.61</td>\n",
       "      <td>10.93</td>\n",
       "      <td>3.28</td>\n",
       "      <td>2.95</td>\n",
       "      <td>80.0</td>\n",
       "      <td>8</td>\n",
       "      <td>E</td>\n",
       "    </tr>\n",
       "    <tr>\n",
       "      <td>4</td>\n",
       "      <td>Pokemon Red/Pokemon Blue</td>\n",
       "      <td>GB</td>\n",
       "      <td>1996</td>\n",
       "      <td>Role-Playing</td>\n",
       "      <td>11.27</td>\n",
       "      <td>8.89</td>\n",
       "      <td>10.22</td>\n",
       "      <td>1.00</td>\n",
       "      <td>NaN</td>\n",
       "      <td>NaN</td>\n",
       "      <td>NaN</td>\n",
       "    </tr>\n",
       "    <tr>\n",
       "      <td>...</td>\n",
       "      <td>...</td>\n",
       "      <td>...</td>\n",
       "      <td>...</td>\n",
       "      <td>...</td>\n",
       "      <td>...</td>\n",
       "      <td>...</td>\n",
       "      <td>...</td>\n",
       "      <td>...</td>\n",
       "      <td>...</td>\n",
       "      <td>...</td>\n",
       "      <td>...</td>\n",
       "    </tr>\n",
       "    <tr>\n",
       "      <td>16710</td>\n",
       "      <td>Samurai Warriors: Sanada Maru</td>\n",
       "      <td>PS3</td>\n",
       "      <td>2016</td>\n",
       "      <td>Action</td>\n",
       "      <td>0.00</td>\n",
       "      <td>0.00</td>\n",
       "      <td>0.01</td>\n",
       "      <td>0.00</td>\n",
       "      <td>NaN</td>\n",
       "      <td>NaN</td>\n",
       "      <td>NaN</td>\n",
       "    </tr>\n",
       "    <tr>\n",
       "      <td>16711</td>\n",
       "      <td>LMA Manager 2007</td>\n",
       "      <td>X360</td>\n",
       "      <td>2006</td>\n",
       "      <td>Sports</td>\n",
       "      <td>0.00</td>\n",
       "      <td>0.01</td>\n",
       "      <td>0.00</td>\n",
       "      <td>0.00</td>\n",
       "      <td>NaN</td>\n",
       "      <td>NaN</td>\n",
       "      <td>NaN</td>\n",
       "    </tr>\n",
       "    <tr>\n",
       "      <td>16712</td>\n",
       "      <td>Haitaka no Psychedelica</td>\n",
       "      <td>PSV</td>\n",
       "      <td>2016</td>\n",
       "      <td>Adventure</td>\n",
       "      <td>0.00</td>\n",
       "      <td>0.00</td>\n",
       "      <td>0.01</td>\n",
       "      <td>0.00</td>\n",
       "      <td>NaN</td>\n",
       "      <td>NaN</td>\n",
       "      <td>NaN</td>\n",
       "    </tr>\n",
       "    <tr>\n",
       "      <td>16713</td>\n",
       "      <td>Spirits &amp; Spells</td>\n",
       "      <td>GBA</td>\n",
       "      <td>2003</td>\n",
       "      <td>Platform</td>\n",
       "      <td>0.01</td>\n",
       "      <td>0.00</td>\n",
       "      <td>0.00</td>\n",
       "      <td>0.00</td>\n",
       "      <td>NaN</td>\n",
       "      <td>NaN</td>\n",
       "      <td>NaN</td>\n",
       "    </tr>\n",
       "    <tr>\n",
       "      <td>16714</td>\n",
       "      <td>Winning Post 8 2016</td>\n",
       "      <td>PSV</td>\n",
       "      <td>2016</td>\n",
       "      <td>Simulation</td>\n",
       "      <td>0.00</td>\n",
       "      <td>0.00</td>\n",
       "      <td>0.01</td>\n",
       "      <td>0.00</td>\n",
       "      <td>NaN</td>\n",
       "      <td>NaN</td>\n",
       "      <td>NaN</td>\n",
       "    </tr>\n",
       "  </tbody>\n",
       "</table>\n",
       "<p>16715 rows × 11 columns</p>\n",
       "</div>"
      ],
      "text/plain": [
       "                                name platform  year_of_release         genre  \\\n",
       "0                         Wii Sports      Wii             2006        Sports   \n",
       "1                  Super Mario Bros.      NES             1985      Platform   \n",
       "2                     Mario Kart Wii      Wii             2008        Racing   \n",
       "3                  Wii Sports Resort      Wii             2009        Sports   \n",
       "4           Pokemon Red/Pokemon Blue       GB             1996  Role-Playing   \n",
       "...                              ...      ...              ...           ...   \n",
       "16710  Samurai Warriors: Sanada Maru      PS3             2016        Action   \n",
       "16711               LMA Manager 2007     X360             2006        Sports   \n",
       "16712        Haitaka no Psychedelica      PSV             2016     Adventure   \n",
       "16713               Spirits & Spells      GBA             2003      Platform   \n",
       "16714            Winning Post 8 2016      PSV             2016    Simulation   \n",
       "\n",
       "       na_sales  eu_sales  jp_sales  other_sales  critic_score user_score  \\\n",
       "0         41.36     28.96      3.77         8.45          76.0          8   \n",
       "1         29.08      3.58      6.81         0.77           NaN        NaN   \n",
       "2         15.68     12.76      3.79         3.29          82.0        8.3   \n",
       "3         15.61     10.93      3.28         2.95          80.0          8   \n",
       "4         11.27      8.89     10.22         1.00           NaN        NaN   \n",
       "...         ...       ...       ...          ...           ...        ...   \n",
       "16710      0.00      0.00      0.01         0.00           NaN        NaN   \n",
       "16711      0.00      0.01      0.00         0.00           NaN        NaN   \n",
       "16712      0.00      0.00      0.01         0.00           NaN        NaN   \n",
       "16713      0.01      0.00      0.00         0.00           NaN        NaN   \n",
       "16714      0.00      0.00      0.01         0.00           NaN        NaN   \n",
       "\n",
       "      rating  \n",
       "0          E  \n",
       "1        NaN  \n",
       "2          E  \n",
       "3          E  \n",
       "4        NaN  \n",
       "...      ...  \n",
       "16710    NaN  \n",
       "16711    NaN  \n",
       "16712    NaN  \n",
       "16713    NaN  \n",
       "16714    NaN  \n",
       "\n",
       "[16715 rows x 11 columns]"
      ]
     },
     "execution_count": 11,
     "metadata": {},
     "output_type": "execute_result"
    }
   ],
   "source": [
    "#посмотрим что получилось\n",
    "df"
   ]
  },
  {
   "cell_type": "code",
   "execution_count": 12,
   "metadata": {},
   "outputs": [
    {
     "name": "stdout",
     "output_type": "stream",
     "text": [
      "<class 'pandas.core.frame.DataFrame'>\n",
      "RangeIndex: 16715 entries, 0 to 16714\n",
      "Data columns (total 11 columns):\n",
      "name               16713 non-null object\n",
      "platform           16715 non-null object\n",
      "year_of_release    16446 non-null Int64\n",
      "genre              16713 non-null object\n",
      "na_sales           16715 non-null float64\n",
      "eu_sales           16715 non-null float64\n",
      "jp_sales           16715 non-null float64\n",
      "other_sales        16715 non-null float64\n",
      "critic_score       8137 non-null float64\n",
      "user_score         10014 non-null object\n",
      "rating             9949 non-null object\n",
      "dtypes: Int64(1), float64(5), object(5)\n",
      "memory usage: 1.4+ MB\n"
     ]
    }
   ],
   "source": [
    "df.info()"
   ]
  },
  {
   "cell_type": "code",
   "execution_count": 13,
   "metadata": {},
   "outputs": [],
   "source": [
    "#напишем цикл для замены пустых значений year_of_release\n",
    "for i in df[df['year_of_release'].isnull() == True].index:  \n",
    "    df['year_of_release'][i] = df.loc[df['name'] == df['name'][i], 'year_of_release'].max()"
   ]
  },
  {
   "cell_type": "markdown",
   "metadata": {},
   "source": [
    "Следует обратить внимание на аббревиатуру tbd в столбцах с рейтингом. \n",
    "Указанная аббревиатура не скрывает в себе никаких таинственных смыслов и расшифровывается очень просто - To Be Determined, то есть \"Будет определено\".  В данном случае данные были специально не заполнены, так как не определились с рейтингом. Можно заменить tbd на Nan"
   ]
  },
  {
   "cell_type": "code",
   "execution_count": 14,
   "metadata": {},
   "outputs": [],
   "source": [
    "#заменим на nan\n",
    "df['user_score'] = df['user_score'].replace('tbd', np.nan, regex=True)"
   ]
  },
  {
   "cell_type": "code",
   "execution_count": 15,
   "metadata": {},
   "outputs": [],
   "source": [
    "# Поменяем формат user_score на float\n",
    "df['user_score'] = df['user_score'].astype('float')\n"
   ]
  },
  {
   "cell_type": "markdown",
   "metadata": {},
   "source": [
    "Посчитаем суммарные продажи во всех регионах"
   ]
  },
  {
   "cell_type": "code",
   "execution_count": 16,
   "metadata": {},
   "outputs": [],
   "source": [
    "df['all_sales'] = df['na_sales'] + df['eu_sales'] + df['jp_sales'] + df['other_sales']"
   ]
  },
  {
   "cell_type": "code",
   "execution_count": 17,
   "metadata": {
    "scrolled": true
   },
   "outputs": [
    {
     "data": {
      "text/html": [
       "<div>\n",
       "<style scoped>\n",
       "    .dataframe tbody tr th:only-of-type {\n",
       "        vertical-align: middle;\n",
       "    }\n",
       "\n",
       "    .dataframe tbody tr th {\n",
       "        vertical-align: top;\n",
       "    }\n",
       "\n",
       "    .dataframe thead th {\n",
       "        text-align: right;\n",
       "    }\n",
       "</style>\n",
       "<table border=\"1\" class=\"dataframe\">\n",
       "  <thead>\n",
       "    <tr style=\"text-align: right;\">\n",
       "      <th></th>\n",
       "      <th>name</th>\n",
       "      <th>platform</th>\n",
       "      <th>year_of_release</th>\n",
       "      <th>genre</th>\n",
       "      <th>na_sales</th>\n",
       "      <th>eu_sales</th>\n",
       "      <th>jp_sales</th>\n",
       "      <th>other_sales</th>\n",
       "      <th>critic_score</th>\n",
       "      <th>user_score</th>\n",
       "      <th>rating</th>\n",
       "      <th>all_sales</th>\n",
       "    </tr>\n",
       "  </thead>\n",
       "  <tbody>\n",
       "    <tr>\n",
       "      <td>0</td>\n",
       "      <td>Wii Sports</td>\n",
       "      <td>Wii</td>\n",
       "      <td>2006</td>\n",
       "      <td>Sports</td>\n",
       "      <td>41.36</td>\n",
       "      <td>28.96</td>\n",
       "      <td>3.77</td>\n",
       "      <td>8.45</td>\n",
       "      <td>76.0</td>\n",
       "      <td>8.0</td>\n",
       "      <td>E</td>\n",
       "      <td>82.54</td>\n",
       "    </tr>\n",
       "    <tr>\n",
       "      <td>1</td>\n",
       "      <td>Super Mario Bros.</td>\n",
       "      <td>NES</td>\n",
       "      <td>1985</td>\n",
       "      <td>Platform</td>\n",
       "      <td>29.08</td>\n",
       "      <td>3.58</td>\n",
       "      <td>6.81</td>\n",
       "      <td>0.77</td>\n",
       "      <td>NaN</td>\n",
       "      <td>NaN</td>\n",
       "      <td>NaN</td>\n",
       "      <td>40.24</td>\n",
       "    </tr>\n",
       "    <tr>\n",
       "      <td>2</td>\n",
       "      <td>Mario Kart Wii</td>\n",
       "      <td>Wii</td>\n",
       "      <td>2008</td>\n",
       "      <td>Racing</td>\n",
       "      <td>15.68</td>\n",
       "      <td>12.76</td>\n",
       "      <td>3.79</td>\n",
       "      <td>3.29</td>\n",
       "      <td>82.0</td>\n",
       "      <td>8.3</td>\n",
       "      <td>E</td>\n",
       "      <td>35.52</td>\n",
       "    </tr>\n",
       "    <tr>\n",
       "      <td>3</td>\n",
       "      <td>Wii Sports Resort</td>\n",
       "      <td>Wii</td>\n",
       "      <td>2009</td>\n",
       "      <td>Sports</td>\n",
       "      <td>15.61</td>\n",
       "      <td>10.93</td>\n",
       "      <td>3.28</td>\n",
       "      <td>2.95</td>\n",
       "      <td>80.0</td>\n",
       "      <td>8.0</td>\n",
       "      <td>E</td>\n",
       "      <td>32.77</td>\n",
       "    </tr>\n",
       "    <tr>\n",
       "      <td>4</td>\n",
       "      <td>Pokemon Red/Pokemon Blue</td>\n",
       "      <td>GB</td>\n",
       "      <td>1996</td>\n",
       "      <td>Role-Playing</td>\n",
       "      <td>11.27</td>\n",
       "      <td>8.89</td>\n",
       "      <td>10.22</td>\n",
       "      <td>1.00</td>\n",
       "      <td>NaN</td>\n",
       "      <td>NaN</td>\n",
       "      <td>NaN</td>\n",
       "      <td>31.38</td>\n",
       "    </tr>\n",
       "    <tr>\n",
       "      <td>...</td>\n",
       "      <td>...</td>\n",
       "      <td>...</td>\n",
       "      <td>...</td>\n",
       "      <td>...</td>\n",
       "      <td>...</td>\n",
       "      <td>...</td>\n",
       "      <td>...</td>\n",
       "      <td>...</td>\n",
       "      <td>...</td>\n",
       "      <td>...</td>\n",
       "      <td>...</td>\n",
       "      <td>...</td>\n",
       "    </tr>\n",
       "    <tr>\n",
       "      <td>16710</td>\n",
       "      <td>Samurai Warriors: Sanada Maru</td>\n",
       "      <td>PS3</td>\n",
       "      <td>2016</td>\n",
       "      <td>Action</td>\n",
       "      <td>0.00</td>\n",
       "      <td>0.00</td>\n",
       "      <td>0.01</td>\n",
       "      <td>0.00</td>\n",
       "      <td>NaN</td>\n",
       "      <td>NaN</td>\n",
       "      <td>NaN</td>\n",
       "      <td>0.01</td>\n",
       "    </tr>\n",
       "    <tr>\n",
       "      <td>16711</td>\n",
       "      <td>LMA Manager 2007</td>\n",
       "      <td>X360</td>\n",
       "      <td>2006</td>\n",
       "      <td>Sports</td>\n",
       "      <td>0.00</td>\n",
       "      <td>0.01</td>\n",
       "      <td>0.00</td>\n",
       "      <td>0.00</td>\n",
       "      <td>NaN</td>\n",
       "      <td>NaN</td>\n",
       "      <td>NaN</td>\n",
       "      <td>0.01</td>\n",
       "    </tr>\n",
       "    <tr>\n",
       "      <td>16712</td>\n",
       "      <td>Haitaka no Psychedelica</td>\n",
       "      <td>PSV</td>\n",
       "      <td>2016</td>\n",
       "      <td>Adventure</td>\n",
       "      <td>0.00</td>\n",
       "      <td>0.00</td>\n",
       "      <td>0.01</td>\n",
       "      <td>0.00</td>\n",
       "      <td>NaN</td>\n",
       "      <td>NaN</td>\n",
       "      <td>NaN</td>\n",
       "      <td>0.01</td>\n",
       "    </tr>\n",
       "    <tr>\n",
       "      <td>16713</td>\n",
       "      <td>Spirits &amp; Spells</td>\n",
       "      <td>GBA</td>\n",
       "      <td>2003</td>\n",
       "      <td>Platform</td>\n",
       "      <td>0.01</td>\n",
       "      <td>0.00</td>\n",
       "      <td>0.00</td>\n",
       "      <td>0.00</td>\n",
       "      <td>NaN</td>\n",
       "      <td>NaN</td>\n",
       "      <td>NaN</td>\n",
       "      <td>0.01</td>\n",
       "    </tr>\n",
       "    <tr>\n",
       "      <td>16714</td>\n",
       "      <td>Winning Post 8 2016</td>\n",
       "      <td>PSV</td>\n",
       "      <td>2016</td>\n",
       "      <td>Simulation</td>\n",
       "      <td>0.00</td>\n",
       "      <td>0.00</td>\n",
       "      <td>0.01</td>\n",
       "      <td>0.00</td>\n",
       "      <td>NaN</td>\n",
       "      <td>NaN</td>\n",
       "      <td>NaN</td>\n",
       "      <td>0.01</td>\n",
       "    </tr>\n",
       "  </tbody>\n",
       "</table>\n",
       "<p>16715 rows × 12 columns</p>\n",
       "</div>"
      ],
      "text/plain": [
       "                                name platform  year_of_release         genre  \\\n",
       "0                         Wii Sports      Wii             2006        Sports   \n",
       "1                  Super Mario Bros.      NES             1985      Platform   \n",
       "2                     Mario Kart Wii      Wii             2008        Racing   \n",
       "3                  Wii Sports Resort      Wii             2009        Sports   \n",
       "4           Pokemon Red/Pokemon Blue       GB             1996  Role-Playing   \n",
       "...                              ...      ...              ...           ...   \n",
       "16710  Samurai Warriors: Sanada Maru      PS3             2016        Action   \n",
       "16711               LMA Manager 2007     X360             2006        Sports   \n",
       "16712        Haitaka no Psychedelica      PSV             2016     Adventure   \n",
       "16713               Spirits & Spells      GBA             2003      Platform   \n",
       "16714            Winning Post 8 2016      PSV             2016    Simulation   \n",
       "\n",
       "       na_sales  eu_sales  jp_sales  other_sales  critic_score  user_score  \\\n",
       "0         41.36     28.96      3.77         8.45          76.0         8.0   \n",
       "1         29.08      3.58      6.81         0.77           NaN         NaN   \n",
       "2         15.68     12.76      3.79         3.29          82.0         8.3   \n",
       "3         15.61     10.93      3.28         2.95          80.0         8.0   \n",
       "4         11.27      8.89     10.22         1.00           NaN         NaN   \n",
       "...         ...       ...       ...          ...           ...         ...   \n",
       "16710      0.00      0.00      0.01         0.00           NaN         NaN   \n",
       "16711      0.00      0.01      0.00         0.00           NaN         NaN   \n",
       "16712      0.00      0.00      0.01         0.00           NaN         NaN   \n",
       "16713      0.01      0.00      0.00         0.00           NaN         NaN   \n",
       "16714      0.00      0.00      0.01         0.00           NaN         NaN   \n",
       "\n",
       "      rating  all_sales  \n",
       "0          E      82.54  \n",
       "1        NaN      40.24  \n",
       "2          E      35.52  \n",
       "3          E      32.77  \n",
       "4        NaN      31.38  \n",
       "...      ...        ...  \n",
       "16710    NaN       0.01  \n",
       "16711    NaN       0.01  \n",
       "16712    NaN       0.01  \n",
       "16713    NaN       0.01  \n",
       "16714    NaN       0.01  \n",
       "\n",
       "[16715 rows x 12 columns]"
      ]
     },
     "execution_count": 17,
     "metadata": {},
     "output_type": "execute_result"
    }
   ],
   "source": [
    "df"
   ]
  },
  {
   "cell_type": "markdown",
   "metadata": {},
   "source": [
    "**Вывод**\n",
    "\n",
    "Cтолбец Year of Release привели к типу int.\n",
    "User_Score к типу float.\n",
    "\n",
    "Привели к нижнему регистру столбцы нашей таблицы и названия колонок.\n",
    "\n",
    "Произведена замена имеющихся пустых значений в столбце: Year_of_Release - на года от той же игры. Остальные можно попробовать не заменять, чтобы не искажать будущие расчеты.\n",
    "\n",
    "Расшифровали tbd в столбцах с рейтингом. Указанная аббревиатура  расшифровывается - To Be Determined, то есть \"Будет определено\". В данном случае данные были специально не заполнены, так как не определились с рейтингом. Произвели замену tbd на Nan.\n",
    "\n",
    "Кроме того, выявлено отсутствие дубликатов в данных, их не пришлось удалять."
   ]
  },
  {
   "cell_type": "markdown",
   "metadata": {},
   "source": [
    "## Исследовательский анализ данных"
   ]
  },
  {
   "cell_type": "markdown",
   "metadata": {},
   "source": [
    "Посмотрим, сколько игр выпускалось в разные годы"
   ]
  },
  {
   "cell_type": "code",
   "execution_count": 18,
   "metadata": {},
   "outputs": [
    {
     "data": {
      "text/plain": [
       "<matplotlib.legend.Legend at 0x7f76564bee90>"
      ]
     },
     "execution_count": 18,
     "metadata": {},
     "output_type": "execute_result"
    },
    {
     "data": {
      "image/png": "[encoded data removed]",
      "text/plain": [
       "<Figure size 1080x504 with 1 Axes>"
      ]
     },
     "metadata": {
      "needs_background": "light"
     },
     "output_type": "display_data"
    }
   ],
   "source": [
    "# чтобы просмотреть как менялось количество выпускаемых игр применим pivot_table для сортировки и нарисуем график\n",
    "games_period = df.pivot_table(index='year_of_release', values='name', aggfunc='count')\n",
    "plt.figure(figsize=(15,7))\n",
    "sns.lineplot(data=games_period)\n",
    "plt.title(\"Количество игр в разных годах\")\n",
    "plt.xlabel(\"Год\")\n",
    "plt.ylabel(\"Количество выпущенных игр\")\n",
    "plt.legend('')"
   ]
  },
  {
   "cell_type": "markdown",
   "metadata": {},
   "source": [
    "Можно увидеть, что количество игр начало набирать рост с 1990-х годов до 2008 года. \n",
    "С 2008 год виден  спад. \n",
    "Чтобы построить какой- то прогноз не стоит учитывать устаревшие данные, предлагаю взять с 2006 и далее."
   ]
  },
  {
   "cell_type": "markdown",
   "metadata": {},
   "source": [
    "Изучим как менялись продажи по платформам.\n",
    "Выберем платформы с наибольшими суммарными продажами и построим распределение по годам.  За какой характерный срок появляются новые и исчезают старые платформы?\n",
    "\n",
    "Возьмем данные за соответствующий актуальный период. Эти данные помогут построить прогноз на 2017 год. Не учитываем данные за предыдущие годы.\n",
    "\n",
    "Определим - Какие платформы лидируют по продажам, растут или падают? Выберем несколько потенциально прибыльных платформ."
   ]
  },
  {
   "cell_type": "code",
   "execution_count": 19,
   "metadata": {},
   "outputs": [
    {
     "data": {
      "text/plain": [
       "Text(0, 0.5, 'Количество продаж')"
      ]
     },
     "execution_count": 19,
     "metadata": {},
     "output_type": "execute_result"
    },
    {
     "data": {
      "image/png": "[encoded data removed]",
      "text/plain": [
       "<Figure size 864x432 with 1 Axes>"
      ]
     },
     "metadata": {
      "needs_background": "light"
     },
     "output_type": "display_data"
    }
   ],
   "source": [
    "platform_sale = df.pivot_table(index='platform', values='all_sales', aggfunc='sum').sort_values(by='all_sales', ascending=False)\n",
    "\n",
    "plt.figure(figsize=(12,6))\n",
    "sns.barplot(x=platform_sale.index,y=platform_sale['all_sales'])\n",
    "plt.title(\"Продажи за весь период\")\n",
    "plt.xlabel(\"Название платформы\")\n",
    "plt.ylabel(\"Количество продаж\")"
   ]
  },
  {
   "cell_type": "markdown",
   "metadata": {},
   "source": [
    "Видим, что самые популярные игровые платформы за весь период это PS2, X360, PS3, WII, DS, PS"
   ]
  },
  {
   "cell_type": "code",
   "execution_count": 20,
   "metadata": {},
   "outputs": [],
   "source": [
    "# Сделаем функцию, которая возвратит сводную таблицу и вывыдет данные с 2006 года\n",
    "def year_sale_for_platform(name, data):\n",
    "    span = data[(data['platform'] == name) & (data['year_of_release'] > 2006)]\n",
    "    total = span.pivot_table(index='year_of_release', values='all_sales', aggfunc='sum').sort_values('year_of_release', ascending=False)\n",
    "    return total"
   ]
  },
  {
   "cell_type": "code",
   "execution_count": 21,
   "metadata": {},
   "outputs": [],
   "source": [
    "# таблица платформ и их продаж\n",
    "top_5 = df.pivot_table(index='platform', values='all_sales', aggfunc='sum').sort_values(by='all_sales', ascending=False).head(5)\n",
    "top_5 = top_5.reset_index().rename_axis(None, axis=1)"
   ]
  },
  {
   "cell_type": "code",
   "execution_count": 22,
   "metadata": {},
   "outputs": [
    {
     "data": {
      "text/html": [
       "<div>\n",
       "<style scoped>\n",
       "    .dataframe tbody tr th:only-of-type {\n",
       "        vertical-align: middle;\n",
       "    }\n",
       "\n",
       "    .dataframe tbody tr th {\n",
       "        vertical-align: top;\n",
       "    }\n",
       "\n",
       "    .dataframe thead th {\n",
       "        text-align: right;\n",
       "    }\n",
       "</style>\n",
       "<table border=\"1\" class=\"dataframe\">\n",
       "  <thead>\n",
       "    <tr style=\"text-align: right;\">\n",
       "      <th></th>\n",
       "      <th>platform</th>\n",
       "      <th>all_sales</th>\n",
       "    </tr>\n",
       "  </thead>\n",
       "  <tbody>\n",
       "    <tr>\n",
       "      <td>0</td>\n",
       "      <td>PS2</td>\n",
       "      <td>1255.77</td>\n",
       "    </tr>\n",
       "    <tr>\n",
       "      <td>1</td>\n",
       "      <td>X360</td>\n",
       "      <td>971.42</td>\n",
       "    </tr>\n",
       "    <tr>\n",
       "      <td>2</td>\n",
       "      <td>PS3</td>\n",
       "      <td>939.65</td>\n",
       "    </tr>\n",
       "    <tr>\n",
       "      <td>3</td>\n",
       "      <td>Wii</td>\n",
       "      <td>907.51</td>\n",
       "    </tr>\n",
       "    <tr>\n",
       "      <td>4</td>\n",
       "      <td>DS</td>\n",
       "      <td>806.12</td>\n",
       "    </tr>\n",
       "  </tbody>\n",
       "</table>\n",
       "</div>"
      ],
      "text/plain": [
       "  platform  all_sales\n",
       "0      PS2    1255.77\n",
       "1     X360     971.42\n",
       "2      PS3     939.65\n",
       "3      Wii     907.51\n",
       "4       DS     806.12"
      ]
     },
     "execution_count": 22,
     "metadata": {},
     "output_type": "execute_result"
    }
   ],
   "source": [
    "top_5"
   ]
  },
  {
   "cell_type": "code",
   "execution_count": 23,
   "metadata": {},
   "outputs": [
    {
     "data": {
      "image/png": "[encoded data removed]",
      "text/plain": [
       "<Figure size 1152x576 with 1 Axes>"
      ]
     },
     "metadata": {
      "needs_background": "light"
     },
     "output_type": "display_data"
    }
   ],
   "source": [
    "#Нарисуем все на одном графике для наглядности\n",
    "plt.figure(figsize=(16,8))\n",
    "plt.title('Количество продаж популярных платформ')\n",
    "plt.xlabel('Год релиза')\n",
    "plt.ylabel('Продажи')\n",
    "\n",
    "for i in list(top_5['platform']):\n",
    "    sns.lineplot(data=year_sale_for_platform(i,df)['all_sales'], label=i)\n",
    "    plt.legend()"
   ]
  },
  {
   "cell_type": "markdown",
   "metadata": {},
   "source": [
    "По большей части все игровые платформы существуют по 10 лет. Наблюдаем, что на пике продаж Sony Play Station 3 продажи второй версии практически сошли на нет.\n",
    "Cамые продаваемые это Sony Play Station и XBOX.\n",
    "\n",
    "Пик продаж наступает примерно через 5 лет после выхода приставки\n",
    "Продажи Nintento WII резко пошли в гору в 2009 году и так же резко начали падать в момент, когда набирали обороты Sony Play Station и XBOX"
   ]
  },
  {
   "cell_type": "markdown",
   "metadata": {},
   "source": [
    "Построим график «ящик с усами» по глобальным продажам игр в разбивке по платформам. "
   ]
  },
  {
   "cell_type": "code",
   "execution_count": 24,
   "metadata": {},
   "outputs": [],
   "source": [
    "#Сохраним в переменной  топ 5 платформ и избавимся от выбросов\n",
    "list_of_top = ['PS2','X360','PS3','Wii','DS']\n",
    "df_top_5 = df[df['platform'].isin(['PS2','X360','PS3','Wii','DS'])]\n",
    "df_top_5 = df_top_5[df_top_5['all_sales']<1.5]"
   ]
  },
  {
   "cell_type": "code",
   "execution_count": 25,
   "metadata": {},
   "outputs": [
    {
     "data": {
      "text/plain": [
       "count    7538.000000\n",
       "mean        0.291402\n",
       "std         0.319281\n",
       "min         0.000000\n",
       "25%         0.070000\n",
       "50%         0.170000\n",
       "75%         0.410000\n",
       "max         1.490000\n",
       "Name: all_sales, dtype: float64"
      ]
     },
     "execution_count": 25,
     "metadata": {},
     "output_type": "execute_result"
    }
   ],
   "source": [
    "df_top_5['all_sales'].describe()"
   ]
  },
  {
   "cell_type": "code",
   "execution_count": 26,
   "metadata": {},
   "outputs": [
    {
     "data": {
      "text/plain": [
       "Text(0, 0.5, 'Продажи')"
      ]
     },
     "execution_count": 26,
     "metadata": {},
     "output_type": "execute_result"
    },
    {
     "data": {
      "image/png": "[encoded data removed]",
      "text/plain": [
       "<Figure size 864x432 with 1 Axes>"
      ]
     },
     "metadata": {
      "needs_background": "light"
     },
     "output_type": "display_data"
    }
   ],
   "source": [
    "plt.figure(figsize=(12,6))\n",
    "sns.boxplot(data=df_top_5, x='platform', y='all_sales')\n",
    "plt.title('Ящик с усами', fontsize=15)\n",
    "plt.xlabel('Платформа', fontsize=11)\n",
    "plt.ylabel('Продажи',fontsize=11)"
   ]
  },
  {
   "cell_type": "markdown",
   "metadata": {},
   "source": [
    "Построили ящик с усами по срезу данных.  По графику можно определить, что медиана проходит у всех по-разному.\n",
    "\n",
    "Большая доля продаж приходится на PS3, затем X360, после PS2, WII и DS."
   ]
  },
  {
   "cell_type": "markdown",
   "metadata": {},
   "source": [
    "Посмотрим, как влияют на продажи внутри одной популярной платформы отзывы пользователей и критиков. Построим диаграмму рассеяния и посчитаем корреляцию между отзывами и продажами. "
   ]
  },
  {
   "cell_type": "code",
   "execution_count": 27,
   "metadata": {},
   "outputs": [
    {
     "data": {
      "text/plain": [
       "0.17286551112058213"
      ]
     },
     "execution_count": 27,
     "metadata": {},
     "output_type": "execute_result"
    }
   ],
   "source": [
    "#корреляция между оценками пользователей и продажами \n",
    "sony_play_station2 = df[df['platform']=='PS2']\n",
    "sony_play_station2['user_score'].corr(sony_play_station2['all_sales'])"
   ]
  },
  {
   "cell_type": "code",
   "execution_count": 28,
   "metadata": {},
   "outputs": [
    {
     "data": {
      "text/plain": [
       "<matplotlib.axes._subplots.AxesSubplot at 0x7f762d7f8810>"
      ]
     },
     "execution_count": 28,
     "metadata": {},
     "output_type": "execute_result"
    },
    {
     "data": {
      "image/png": "[encoded data removed]",
      "text/plain": [
       "<Figure size 1008x432 with 1 Axes>"
      ]
     },
     "metadata": {
      "needs_background": "light"
     },
     "output_type": "display_data"
    }
   ],
   "source": [
    "plt.figure(figsize=(14,6))\n",
    "sns.scatterplot(x='user_score', y='all_sales', data=sony_play_station2)"
   ]
  },
  {
   "cell_type": "code",
   "execution_count": 29,
   "metadata": {},
   "outputs": [
    {
     "data": {
      "text/plain": [
       "0.39543454945454876"
      ]
     },
     "execution_count": 29,
     "metadata": {},
     "output_type": "execute_result"
    }
   ],
   "source": [
    "sony_play_station2['critic_score'].corr(sony_play_station2['all_sales'])"
   ]
  },
  {
   "cell_type": "code",
   "execution_count": 30,
   "metadata": {},
   "outputs": [
    {
     "data": {
      "text/plain": [
       "<matplotlib.axes._subplots.AxesSubplot at 0x7f762f962290>"
      ]
     },
     "execution_count": 30,
     "metadata": {},
     "output_type": "execute_result"
    },
    {
     "data": {
      "image/png": "[encoded data removed]",
      "text/plain": [
       "<Figure size 1008x432 with 1 Axes>"
      ]
     },
     "metadata": {
      "needs_background": "light"
     },
     "output_type": "display_data"
    }
   ],
   "source": [
    "plt.figure(figsize=(14,6))\n",
    "sns.scatterplot(x='critic_score', y='all_sales', data=sony_play_station2)\n"
   ]
  },
  {
   "cell_type": "markdown",
   "metadata": {},
   "source": [
    "Посмотрим, что с другими платформами"
   ]
  },
  {
   "cell_type": "code",
   "execution_count": 31,
   "metadata": {},
   "outputs": [],
   "source": [
    "#Напишем функцию, которая будет отрисовывать графики рассеивания и считать корреляции\n",
    "def other_platform(name_of_platform):\n",
    "    platform = df[df['platform']==name_of_platform]\n",
    "    fig, ax = plt.subplots(1 ,2, figsize=(16,6))\n",
    "    sns.scatterplot(x='user_score', y='all_sales', data=platform, ax=ax[0])\n",
    "    sns.scatterplot(x='critic_score', y='all_sales', data=platform, ax=ax[1])\n",
    "    fig.suptitle(name_of_platform, fontsize=15)\n",
    "    ax[0].set(xlabel='Оценка пользователей')\n",
    "    ax[1].set(xlabel='Оценка критиков')\n",
    "    ax[0].set(ylabel='Количество продаж')\n",
    "    ax[1].set(ylabel='Количество продаж')\n",
    "    plt.show()\n",
    "    \n",
    "    correlation = platform['user_score'].corr(platform['all_sales'])\n",
    "    critic_correl = platform['critic_score'].corr(platform['all_sales'])\n",
    "    \n",
    "    \n",
    "    if 0.3 >= critic_correl >= 0.1:\n",
    "        print('Корреляция между отзывами критиков и игровой платформой ', name_of_platform.upper(), ': Слабая', critic_correl)\n",
    "    if 0.5 >= critic_correl >= 0.3:\n",
    "        print('Корреляция между отзывами критиков и игровой платформой ', name_of_platform.upper(), ': Умеренная', critic_correl)\n",
    "    if 0.7 >= critic_correl >= 0.5:\n",
    "        print('Корреляция между отзывами критиков и игровой платформой ', name_of_platform.upper(), ': Высокая', critic_correl)\n",
    "    if 0.9 >= critic_correl >= 0.7:\n",
    "        print('Корреляция между отзывами критиков и игровой платформой ', name_of_platform.upper(), ': Весьма высокая', critic_correl)\n",
    "    if 1 >= critic_correl >= 0.9:\n",
    "        print('Корреляция между отзывами критиков и игровой платформой ', name_of_platform.upper(), ': Сильная', critic_correl)\n",
    "    \n",
    "    if 0.3 >= correlation >= 0.1:\n",
    "        print('Корреляция между отзывами пользователей и продажами ', name_of_platform.upper(), ': Слабая', correlation)\n",
    "    if 0.5 >= correlation >= 0.3:\n",
    "        print('Корреляция между отзывами пользователей и продажами ', name_of_platform.upper(), ': Умеренная', correlation)\n",
    "    if 0.7 >= correlation >= 0.5:\n",
    "        print('Корреляция между отзывами пользователей и продажами ', name_of_platform.upper(), ': Высокая', correlation)\n",
    "    if 0.9 >= correlation >= 0.7:\n",
    "        print('Корреляция между отзывами пользователей и продажами ', name_of_platform.upper(), ': Весьма высокая', correlation)\n",
    "    if 1 >= correlation >= 0.9:\n",
    "        print('Корреляция между отзывами пользователей и продажами ', name_of_platform.upper(), ': Сильная', correlation)\n",
    "    print('\\n')"
   ]
  },
  {
   "cell_type": "code",
   "execution_count": 32,
   "metadata": {},
   "outputs": [
    {
     "data": {
      "image/png": "[encoded data removed]",
      "text/plain": [
       "<Figure size 1152x432 with 2 Axes>"
      ]
     },
     "metadata": {
      "needs_background": "light"
     },
     "output_type": "display_data"
    },
    {
     "name": "stdout",
     "output_type": "stream",
     "text": [
      "Корреляция между отзывами критиков и игровой платформой  PS2 : Умеренная 0.39543454945454876\n",
      "Корреляция между отзывами пользователей и продажами  PS2 : Слабая 0.17286551112058213\n",
      "\n",
      "\n"
     ]
    },
    {
     "data": {
      "image/png": "[encoded data removed]",
      "text/plain": [
       "<Figure size 1152x432 with 2 Axes>"
      ]
     },
     "metadata": {
      "needs_background": "light"
     },
     "output_type": "display_data"
    },
    {
     "name": "stdout",
     "output_type": "stream",
     "text": [
      "Корреляция между отзывами критиков и игровой платформой  X360 : Умеренная 0.3937358653072588\n",
      "Корреляция между отзывами пользователей и продажами  X360 : Слабая 0.11445882978454185\n",
      "\n",
      "\n"
     ]
    },
    {
     "data": {
      "image/png": "[encoded data removed]",
      "text/plain": [
       "<Figure size 1152x432 with 2 Axes>"
      ]
     },
     "metadata": {
      "needs_background": "light"
     },
     "output_type": "display_data"
    },
    {
     "name": "stdout",
     "output_type": "stream",
     "text": [
      "Корреляция между отзывами критиков и игровой платформой  PS3 : Умеренная 0.4324315685642061\n",
      "Корреляция между отзывами пользователей и продажами  PS3 : Слабая 0.12669133936341712\n",
      "\n",
      "\n"
     ]
    },
    {
     "data": {
      "image/png": "[encoded data removed]",
      "text/plain": [
       "<Figure size 1152x432 with 2 Axes>"
      ]
     },
     "metadata": {
      "needs_background": "light"
     },
     "output_type": "display_data"
    },
    {
     "name": "stdout",
     "output_type": "stream",
     "text": [
      "Корреляция между отзывами критиков и игровой платформой  WII : Слабая 0.17755988806089948\n",
      "Корреляция между отзывами пользователей и продажами  WII : Слабая 0.11241436067003169\n",
      "\n",
      "\n"
     ]
    },
    {
     "data": {
      "image/png": "[encoded data removed]",
      "text/plain": [
       "<Figure size 1152x432 with 2 Axes>"
      ]
     },
     "metadata": {
      "needs_background": "light"
     },
     "output_type": "display_data"
    },
    {
     "name": "stdout",
     "output_type": "stream",
     "text": [
      "Корреляция между отзывами критиков и игровой платформой  DS : Слабая 0.23637945738859747\n",
      "Корреляция между отзывами пользователей и продажами  DS : Слабая 0.1304355011164249\n",
      "\n",
      "\n"
     ]
    }
   ],
   "source": [
    "for platform in list_of_top:\n",
    "    other_platform(platform)"
   ]
  },
  {
   "cell_type": "code",
   "execution_count": 33,
   "metadata": {},
   "outputs": [
    {
     "name": "stdout",
     "output_type": "stream",
     "text": [
      "Дисперсия : 1.7128899713716355\n",
      "Стандартное отклонение : 1.3087742247506386\n",
      "Среднее : 7.626833199033038\n",
      "Медиана : 8.0\n",
      "\n",
      "\n",
      "Дисперсия : 2.0752880868793646\n",
      "Стандартное отклонение : 1.4405860220338682\n",
      "Среднее : 6.683540372670807\n",
      "Медиана : 7.0\n",
      "\n",
      "\n",
      "Дисперсия : 2.1327377071986624\n",
      "Стандартное отклонение : 1.460389573777717\n",
      "Среднее : 6.726567844925884\n",
      "Медиана : 7.1\n",
      "\n",
      "\n",
      "Дисперсия : 3.019767825255102\n",
      "Стандартное отклонение : 1.7377479176379702\n",
      "Среднее : 6.742678571428572\n",
      "Медиана : 7.15\n",
      "\n",
      "\n",
      "Дисперсия : 2.27045054383751\n",
      "Стандартное отклонение : 1.5068014281375997\n",
      "Среднее : 7.025193798449613\n",
      "Медиана : 7.4\n",
      "\n",
      "\n"
     ]
    }
   ],
   "source": [
    "#Посчитаем дисперсию, стандартное отклонение, среднее и медиану  к оценкам пользователей\n",
    "for platform in list_of_top:\n",
    "    print('Дисперсия',':', np.var(df[df['platform']==platform]['user_score']))\n",
    "    print('Стандартное отклонение',':', np.std(df[df['platform']==platform]['user_score']))\n",
    "    print('Среднее',':',  df[df['platform']==platform]['user_score'].mean())\n",
    "    print('Медиана',':',  df[df['platform']==platform]['user_score'].median())\n",
    "    print('\\n')"
   ]
  },
  {
   "cell_type": "code",
   "execution_count": 34,
   "metadata": {},
   "outputs": [
    {
     "name": "stdout",
     "output_type": "stream",
     "text": [
      "Дисперсия : 170.82854741560442\n",
      "Стандартное отклонение : 13.070139533134466\n",
      "Среднее : 68.72727272727273\n",
      "Медиана : 70.0\n",
      "\n",
      "\n",
      "Дисперсия : 225.25163874640072\n",
      "Стандартное отклонение : 15.008385614262473\n",
      "Среднее : 68.61681222707423\n",
      "Медиана : 71.0\n",
      "\n",
      "\n",
      "Дисперсия : 196.96800118976796\n",
      "Стандартное отклонение : 14.034528890909305\n",
      "Среднее : 70.3829268292683\n",
      "Медиана : 73.0\n",
      "\n",
      "\n",
      "Дисперсия : 220.95190590985464\n",
      "Стандартное отклонение : 14.86445108000476\n",
      "Среднее : 62.82393162393162\n",
      "Медиана : 65.0\n",
      "\n",
      "\n",
      "Дисперсия : 184.03656565302896\n",
      "Стандартное отклонение : 13.566007727147621\n",
      "Среднее : 63.76150627615063\n",
      "Медиана : 66.0\n",
      "\n",
      "\n"
     ]
    }
   ],
   "source": [
    "#Посчитаем дисперсию, стандартное отклонение, среднее и медиану  к оценкам критиков\n",
    "for platform in list_of_top:\n",
    "    print('Дисперсия', ':', np.var(df[df['platform']==platform]['critic_score']))\n",
    "    print('Стандартное отклонение',':', np.std(df[df['platform']==platform]['critic_score']))\n",
    "    print('Среднее',':',  df[df['platform']==platform]['critic_score'].mean())\n",
    "    print('Медиана',':',  df[df['platform']==platform]['critic_score'].median())\n",
    "    print('\\n')"
   ]
  },
  {
   "cell_type": "markdown",
   "metadata": {},
   "source": [
    "Практически у всех платформ присутствует корреляция между оценками пользователей и критиков.\n",
    "Покупатели прислушиваются больше к критикам, чем к оценкам других пользователей."
   ]
  },
  {
   "cell_type": "markdown",
   "metadata": {},
   "source": [
    "Оценим распределение по жанрам"
   ]
  },
  {
   "cell_type": "code",
   "execution_count": 35,
   "metadata": {},
   "outputs": [
    {
     "data": {
      "text/html": [
       "<div>\n",
       "<style scoped>\n",
       "    .dataframe tbody tr th:only-of-type {\n",
       "        vertical-align: middle;\n",
       "    }\n",
       "\n",
       "    .dataframe tbody tr th {\n",
       "        vertical-align: top;\n",
       "    }\n",
       "\n",
       "    .dataframe thead th {\n",
       "        text-align: right;\n",
       "    }\n",
       "</style>\n",
       "<table border=\"1\" class=\"dataframe\">\n",
       "  <thead>\n",
       "    <tr style=\"text-align: right;\">\n",
       "      <th></th>\n",
       "      <th>genre</th>\n",
       "      <th>all_sales</th>\n",
       "    </tr>\n",
       "  </thead>\n",
       "  <tbody>\n",
       "    <tr>\n",
       "      <td>0</td>\n",
       "      <td>Action</td>\n",
       "      <td>1744.17</td>\n",
       "    </tr>\n",
       "    <tr>\n",
       "      <td>1</td>\n",
       "      <td>Sports</td>\n",
       "      <td>1331.27</td>\n",
       "    </tr>\n",
       "    <tr>\n",
       "      <td>2</td>\n",
       "      <td>Shooter</td>\n",
       "      <td>1052.45</td>\n",
       "    </tr>\n",
       "    <tr>\n",
       "      <td>3</td>\n",
       "      <td>Role-Playing</td>\n",
       "      <td>934.56</td>\n",
       "    </tr>\n",
       "    <tr>\n",
       "      <td>4</td>\n",
       "      <td>Platform</td>\n",
       "      <td>827.77</td>\n",
       "    </tr>\n",
       "    <tr>\n",
       "      <td>5</td>\n",
       "      <td>Misc</td>\n",
       "      <td>802.51</td>\n",
       "    </tr>\n",
       "    <tr>\n",
       "      <td>6</td>\n",
       "      <td>Racing</td>\n",
       "      <td>728.67</td>\n",
       "    </tr>\n",
       "    <tr>\n",
       "      <td>7</td>\n",
       "      <td>Fighting</td>\n",
       "      <td>447.53</td>\n",
       "    </tr>\n",
       "    <tr>\n",
       "      <td>8</td>\n",
       "      <td>Simulation</td>\n",
       "      <td>389.97</td>\n",
       "    </tr>\n",
       "    <tr>\n",
       "      <td>9</td>\n",
       "      <td>Puzzle</td>\n",
       "      <td>242.57</td>\n",
       "    </tr>\n",
       "    <tr>\n",
       "      <td>10</td>\n",
       "      <td>Adventure</td>\n",
       "      <td>237.59</td>\n",
       "    </tr>\n",
       "    <tr>\n",
       "      <td>11</td>\n",
       "      <td>Strategy</td>\n",
       "      <td>174.23</td>\n",
       "    </tr>\n",
       "  </tbody>\n",
       "</table>\n",
       "</div>"
      ],
      "text/plain": [
       "           genre  all_sales\n",
       "0         Action    1744.17\n",
       "1         Sports    1331.27\n",
       "2        Shooter    1052.45\n",
       "3   Role-Playing     934.56\n",
       "4       Platform     827.77\n",
       "5           Misc     802.51\n",
       "6         Racing     728.67\n",
       "7       Fighting     447.53\n",
       "8     Simulation     389.97\n",
       "9         Puzzle     242.57\n",
       "10     Adventure     237.59\n",
       "11      Strategy     174.23"
      ]
     },
     "execution_count": 35,
     "metadata": {},
     "output_type": "execute_result"
    }
   ],
   "source": [
    "all_genre = df.pivot_table(\n",
    "    index='genre', values='all_sales', aggfunc='sum').sort_values(by='all_sales', ascending=False)\n",
    "all_genre = all_genre.reset_index().rename_axis(None, axis=1)\n",
    "all_genre"
   ]
  },
  {
   "cell_type": "code",
   "execution_count": 36,
   "metadata": {},
   "outputs": [
    {
     "data": {
      "text/plain": [
       "Text(0, 0.5, 'Продажи')"
      ]
     },
     "execution_count": 36,
     "metadata": {},
     "output_type": "execute_result"
    },
    {
     "data": {
      "image/png": "[encoded data removed]",
      "text/plain": [
       "<Figure size 1008x576 with 1 Axes>"
      ]
     },
     "metadata": {
      "needs_background": "light"
     },
     "output_type": "display_data"
    }
   ],
   "source": [
    "#строим барплот\n",
    "plt.figure(figsize=(14,8))\n",
    "plt.title('Игры по жанрам ',fontsize=14)\n",
    "sns.barplot(data=all_genre, x='genre', y='all_sales')\n",
    "plt.xlabel('Жанры',fontsize=10)\n",
    "plt.ylabel('Продажи',fontsize=10)"
   ]
  },
  {
   "cell_type": "markdown",
   "metadata": {},
   "source": [
    "Action жанр показывает лучшие продажи. Неожиданно стратегии на последнем месте."
   ]
  },
  {
   "cell_type": "markdown",
   "metadata": {},
   "source": [
    "**Вывод**\n",
    "\n",
    "Рост количества игр на игровых приставках и компьютерах наблюдается с 90х годов примерно до 2008 года. С приходом мобильных приложений и  игр проиcходил резкий спад  игр на игровых платформах.\n",
    "Наиболее популярные игровые платформы за исследуемый период : Sony PlayStation 2, Xbox 360, Sony Playstation 3, Nintendo WII, Nintendo DS, Sony Playstation.\n",
    "В среднем срок жизни игровой платформы около 10 лет. Примерно через 5 лет после выхода приставки наступает пик продаж.\n",
    "Большая часть продаж пришлась на Sony Playstation и Xbox 360\n",
    "Nintendo WII ярко дал о себе знать, но не стал настолько популярен.\n",
    "Наблюдается взаимосвязь между продажами и оценками критиков и пользователей. Более высокая корреляция между оценками критиков и продажами, что означает -  для людей мнение критиков важнее мнения пользователей."
   ]
  },
  {
   "cell_type": "markdown",
   "metadata": {},
   "source": [
    "## Портрет пользователя каждого региона"
   ]
  },
  {
   "cell_type": "markdown",
   "metadata": {},
   "source": [
    "Определим для пользователя каждого региона (NA, EU, JP):\n",
    "\n",
    "Самые популярные платформы (топ-5). \n",
    "Самые популярные жанры (топ-5). \n",
    "Определим влияние рейтинга ESRB на продажи в отдельном регионе"
   ]
  },
  {
   "cell_type": "code",
   "execution_count": 37,
   "metadata": {},
   "outputs": [],
   "source": [
    "\n",
    "\n",
    "#Функция для создания сводбных таблиц за весь период и отрисовки барплотов\n",
    "def image_piv(row, title):\n",
    "    fig, axes = plt.subplots(1, 3, figsize=(20, 4))\n",
    "    for pivot, ax in zip(list(['platform','genre','rating']),axes.flatten()[:3]):\n",
    "        pivott = df.pivot_table(index=pivot, values=row, aggfunc='sum'\n",
    "                  ).sort_values(by=row, ascending=False).reset_index().rename_axis(None, axis=1).head(5)\n",
    "        print(pivott)\n",
    "        print('\\n\\n') \n",
    "        sns.set_palette(\"bright\")\n",
    "        sns.barplot(data=pivott, x=pivot, y=row, ax=ax)\n",
    "        fig.suptitle(title, fontsize=12)\n",
    "        \n",
    "\n",
    "plt.show()\n",
    "sns.set()"
   ]
  },
  {
   "cell_type": "code",
   "execution_count": 38,
   "metadata": {},
   "outputs": [],
   "source": [
    "#функция для отрисовки за последний год\n",
    "\n",
    "def image_piv_2016(row, title):\n",
    "    temp = df[df['year_of_release']>2015]\n",
    "    fig, axes = plt.subplots(1, 3, figsize=(20, 4))\n",
    "    for pivot, ax in zip(list(['platform','genre','rating']), axes.flatten()[:3]):\n",
    "        pivott = temp.pivot_table(index=pivot, values=row, aggfunc='sum').sort_values(by=row, ascending=False).reset_index().rename_axis(None, axis=1).head(5)\n",
    "        print(pivott)\n",
    "        print('\\n\\n')\n",
    "        sns.set_palette(\"RdYlGn\")\n",
    "        sns.barplot(data=pivott, x=pivot, y=row, ax=ax)\n",
    "        fig.suptitle(title, fontsize=15)"
   ]
  },
  {
   "cell_type": "markdown",
   "metadata": {},
   "source": [
    "North America"
   ]
  },
  {
   "cell_type": "code",
   "execution_count": 39,
   "metadata": {},
   "outputs": [
    {
     "name": "stdout",
     "output_type": "stream",
     "text": [
      "  platform  na_sales\n",
      "0     X360    602.47\n",
      "1      PS2    583.84\n",
      "2      Wii    496.90\n",
      "3      PS3    393.49\n",
      "4       DS    382.40\n",
      "\n",
      "\n",
      "\n",
      "      genre  na_sales\n",
      "0    Action    879.01\n",
      "1    Sports    684.43\n",
      "2   Shooter    592.24\n",
      "3  Platform    445.50\n",
      "4      Misc    407.27\n",
      "\n",
      "\n",
      "\n",
      "  rating  na_sales\n",
      "0      E   1292.99\n",
      "1      T    759.75\n",
      "2      M    748.48\n",
      "3   E10+    353.32\n",
      "4    K-A      2.56\n",
      "\n",
      "\n",
      "\n"
     ]
    },
    {
     "data": {
      "image/png": "[encoded data removed]",
      "text/plain": [
       "<Figure size 1440x288 with 3 Axes>"
      ]
     },
     "metadata": {},
     "output_type": "display_data"
    }
   ],
   "source": [
    "#топ 5 за весь период\n",
    "image_piv('na_sales','Топ 5 весь период')"
   ]
  },
  {
   "cell_type": "code",
   "execution_count": 40,
   "metadata": {},
   "outputs": [
    {
     "name": "stdout",
     "output_type": "stream",
     "text": [
      "  platform  na_sales\n",
      "0      PS4     21.49\n",
      "1     XOne     14.27\n",
      "2      3DS      4.14\n",
      "3     WiiU      2.10\n",
      "4       PC      1.36\n",
      "\n",
      "\n",
      "\n",
      "          genre  na_sales\n",
      "0       Shooter     16.24\n",
      "1        Action      9.29\n",
      "2        Sports      7.54\n",
      "3  Role-Playing      5.89\n",
      "4      Fighting      1.84\n",
      "\n",
      "\n",
      "\n",
      "  rating  na_sales\n",
      "0      M     15.67\n",
      "1      T      8.95\n",
      "2      E      7.97\n",
      "3   E10+      3.81\n",
      "\n",
      "\n",
      "\n"
     ]
    },
    {
     "data": {
      "image/png": "[encoded data removed]",
      "text/plain": [
       "<Figure size 1440x288 with 3 Axes>"
      ]
     },
     "metadata": {},
     "output_type": "display_data"
    }
   ],
   "source": [
    "#Топ за последний год\n",
    "image_piv_2016('na_sales','Топ 5 последний год')"
   ]
  },
  {
   "cell_type": "markdown",
   "metadata": {},
   "source": [
    "\n",
    "\n",
    "Самые популярные игровые платформы в Cеверной Америке за все время: XBOX, PS2, WII, PS3, DS\n",
    "\n",
    "Топ 5 жанров за все время: action, sports, shooter, platform, misc\n",
    "\n",
    "По рейтингам видно, что больше всего продаж за все время у игр с рейтингом \"для всех\", на втором месте игры с рейтингом \"от 13 и выше\" и на третьем месте игры с рейтингом \"от 17 и выше\"\n",
    "\n",
    "Если мы посмотрим последний год, то увидим как поменялись интересы:\n",
    "\n",
    "Топ игровых приставок PS4, Xone, DS3\n",
    "\n",
    "Топ жанров игр: Shooter, Action, Sports\n",
    "\n",
    "Топ рейтингов игр : \"От 17 и выше\" , \"от 13 и выше\" и \"для всех\""
   ]
  },
  {
   "cell_type": "markdown",
   "metadata": {},
   "source": [
    "**European Union**"
   ]
  },
  {
   "cell_type": "code",
   "execution_count": 41,
   "metadata": {},
   "outputs": [
    {
     "name": "stdout",
     "output_type": "stream",
     "text": [
      "  platform  eu_sales\n",
      "0      PS2    339.29\n",
      "1      PS3    330.29\n",
      "2     X360    270.76\n",
      "3      Wii    262.21\n",
      "4       PS    213.61\n",
      "\n",
      "\n",
      "\n",
      "     genre  eu_sales\n",
      "0   Action    519.13\n",
      "1   Sports    376.79\n",
      "2  Shooter    317.34\n",
      "3   Racing    236.51\n",
      "4     Misc    212.74\n",
      "\n",
      "\n",
      "\n",
      "  rating  eu_sales\n",
      "0      E    710.25\n",
      "1      M    483.97\n",
      "2      T    427.03\n",
      "3   E10+    188.52\n",
      "4     AO      0.61\n",
      "\n",
      "\n",
      "\n"
     ]
    },
    {
     "data": {
      "image/png": "[encoded data removed]",
      "text/plain": [
       "<Figure size 1440x288 with 3 Axes>"
      ]
     },
     "metadata": {},
     "output_type": "display_data"
    }
   ],
   "source": [
    "#весь период\n",
    "image_piv('eu_sales','Топ 5 весь период')"
   ]
  },
  {
   "cell_type": "code",
   "execution_count": 42,
   "metadata": {},
   "outputs": [
    {
     "name": "stdout",
     "output_type": "stream",
     "text": [
      "  platform  eu_sales\n",
      "0      PS4     31.78\n",
      "1     XOne      9.63\n",
      "2       PC      3.53\n",
      "3      3DS      2.33\n",
      "4     WiiU      1.48\n",
      "\n",
      "\n",
      "\n",
      "          genre  eu_sales\n",
      "0       Shooter     15.90\n",
      "1        Sports     12.01\n",
      "2        Action     10.68\n",
      "3  Role-Playing      4.28\n",
      "4        Racing      1.77\n",
      "\n",
      "\n",
      "\n",
      "  rating  eu_sales\n",
      "0      M     16.54\n",
      "1      E     13.61\n",
      "2      T      9.79\n",
      "3   E10+      3.81\n",
      "\n",
      "\n",
      "\n"
     ]
    },
    {
     "data": {
      "image/png": "[encoded data removed]",
      "text/plain": [
       "<Figure size 1440x288 with 3 Axes>"
      ]
     },
     "metadata": {},
     "output_type": "display_data"
    }
   ],
   "source": [
    "#Топ за последний год\n",
    "image_piv_2016('eu_sales','Топ 5 последний год')"
   ]
  },
  {
   "cell_type": "markdown",
   "metadata": {},
   "source": [
    "Самые популярные игровые платформы в Европе: PS2, PS3, X360, WII, PS\n",
    "\n",
    "Топ 5 жанров: action, sports, shooter, racing, misc\n",
    "\n",
    "Больше всего продаж у игр с рейтингом \"для всех\", на втором месте игры с рейтингом \"от 17 и выше\" и на третьем месте игры с рейтингом \"от 13 и выше\"\n",
    "\n",
    "За последний год:\n",
    "\n",
    "Топ жанров: shooter, sports, action\n",
    "\n",
    "Топ платформ: PS4, Xone, PC\n",
    "\n",
    "Рейтинг: \"От 17 и выше\" , \"Для всех\" и \"от 13 и выше\""
   ]
  },
  {
   "cell_type": "markdown",
   "metadata": {},
   "source": [
    "**Japanese**"
   ]
  },
  {
   "cell_type": "code",
   "execution_count": 43,
   "metadata": {},
   "outputs": [
    {
     "name": "stdout",
     "output_type": "stream",
     "text": [
      "  platform  jp_sales\n",
      "0       DS    175.57\n",
      "1       PS    139.82\n",
      "2      PS2    139.20\n",
      "3     SNES    116.55\n",
      "4      3DS    100.67\n",
      "\n",
      "\n",
      "\n",
      "          genre  jp_sales\n",
      "0  Role-Playing    355.41\n",
      "1        Action    161.43\n",
      "2        Sports    135.54\n",
      "3      Platform    130.83\n",
      "4          Misc    108.11\n",
      "\n",
      "\n",
      "\n",
      "  rating  jp_sales\n",
      "0      E    198.11\n",
      "1      T    151.40\n",
      "2      M     64.24\n",
      "3   E10+     40.20\n",
      "4    K-A      1.46\n",
      "\n",
      "\n",
      "\n"
     ]
    },
    {
     "data": {
      "image/png": "[encoded data removed]",
      "text/plain": [
       "<Figure size 1440x288 with 3 Axes>"
      ]
     },
     "metadata": {},
     "output_type": "display_data"
    }
   ],
   "source": [
    "#весь период\n",
    "image_piv('jp_sales','Топ 5 весь период')"
   ]
  },
  {
   "cell_type": "code",
   "execution_count": 44,
   "metadata": {},
   "outputs": [
    {
     "name": "stdout",
     "output_type": "stream",
     "text": [
      "  platform  jp_sales\n",
      "0      3DS      8.03\n",
      "1      PS4      5.74\n",
      "2      PSV      3.56\n",
      "3      PS3      1.30\n",
      "4     WiiU      0.67\n",
      "\n",
      "\n",
      "\n",
      "          genre  jp_sales\n",
      "0        Action      7.07\n",
      "1  Role-Playing      6.61\n",
      "2     Adventure      1.18\n",
      "3       Shooter      1.06\n",
      "4          Misc      1.04\n",
      "\n",
      "\n",
      "\n",
      "  rating  jp_sales\n",
      "0      T      2.27\n",
      "1      M      1.20\n",
      "2      E      1.07\n",
      "3   E10+      0.45\n",
      "\n",
      "\n",
      "\n"
     ]
    },
    {
     "data": {
      "image/png": "[encoded data removed]",
      "text/plain": [
       "<Figure size 1440x288 with 3 Axes>"
      ]
     },
     "metadata": {},
     "output_type": "display_data"
    }
   ],
   "source": [
    "#за последний год\n",
    "image_piv_2016('jp_sales','Топ 5 последний год')"
   ]
  },
  {
   "cell_type": "markdown",
   "metadata": {},
   "source": [
    "Самые популярные игровые платформы в Японии: DS, PS, PS2, SNES, 3DS\n",
    "    \n",
    "Топ жанров : Role-Playing, action, sports, platform, misc\n",
    "    \n",
    "Больше всего продаж у игр с рейтингом \"для всех\", на втором месте игры с рейтингом \"от 13 и выше\" и на третьем месте игры с рейтингом \"от 17 и выше\"\n",
    "\n",
    "За последний год:\n",
    "\n",
    "Топ жанров: action, Role-Playing, adventure\n",
    "\n",
    "Топ платформ: 3DS, PS4, PSV\n",
    "\n",
    "Топ рейтингов: \"от 13 и выше\", \"от 17 и выше\" и \"для всех"
   ]
  },
  {
   "cell_type": "markdown",
   "metadata": {},
   "source": [
    "**Вывод по портрету пользователя**\n",
    "\n",
    "В ходе исследования портрета пользователя мы дали оценку наиболее популярных категорий платформ, жанров и рейтингов для каждого региона. Следует заметить, что есть определенные отличия топов за весь период и последний год.\n",
    "\n",
    "Для прогноза будущих продаж я бы рекомендовала  брать данные за последний год, учитывая рост технологий и изменяющихся взглядов пользователя. \n"
   ]
  },
  {
   "cell_type": "markdown",
   "metadata": {},
   "source": [
    "## Проверка гипотез"
   ]
  },
  {
   "cell_type": "markdown",
   "metadata": {},
   "source": [
    " - Средние пользовательские рейтинги платформ Xbox One и PC одинаковые"
   ]
  },
  {
   "cell_type": "markdown",
   "metadata": {},
   "source": [
    "Сформулируем нулевые гипотезы:\n",
    "\n",
    "Нулевая гипотеза H₀: Средние пользовательские рейтинги платформ Xbox One и PC одинаковые;\n",
    "\n",
    "Альтернативная гипотеза H₁: Средние пользовательские рейтинги платформ Xbox One и PC различаются"
   ]
  },
  {
   "cell_type": "code",
   "execution_count": 45,
   "metadata": {},
   "outputs": [
    {
     "data": {
      "text/plain": [
       "array(['Wii', 'NES', 'GB', 'DS', 'X360', 'PS3', 'PS2', 'SNES', 'GBA',\n",
       "       'PS4', '3DS', 'N64', 'PS', 'XB', 'PC', '2600', 'PSP', 'XOne',\n",
       "       'WiiU', 'GC', 'GEN', 'DC', 'PSV', 'SAT', 'SCD', 'WS', 'NG', 'TG16',\n",
       "       '3DO', 'GG', 'PCFX'], dtype=object)"
      ]
     },
     "execution_count": 45,
     "metadata": {},
     "output_type": "execute_result"
    }
   ],
   "source": [
    "df['platform'].unique()\n"
   ]
  },
  {
   "cell_type": "code",
   "execution_count": 46,
   "metadata": {},
   "outputs": [
    {
     "data": {
      "text/plain": [
       "6.521428571428572"
      ]
     },
     "execution_count": 46,
     "metadata": {},
     "output_type": "execute_result"
    }
   ],
   "source": [
    "xone = df[(df['platform']=='XOne') & (df['year_of_release']>2006)]['user_score']\n",
    "pc = df[(df['platform']=='PC') & (df['year_of_release']>2006)]['user_score']\n",
    "\n",
    "#средний рейтинг пользователя для xbox one платформ\n",
    "xone.mean()\n"
   ]
  },
  {
   "cell_type": "code",
   "execution_count": 47,
   "metadata": {},
   "outputs": [
    {
     "data": {
      "text/plain": [
       "6.773024054982817"
      ]
     },
     "execution_count": 47,
     "metadata": {},
     "output_type": "execute_result"
    }
   ],
   "source": [
    "pc.mean()"
   ]
  },
  {
   "cell_type": "code",
   "execution_count": 48,
   "metadata": {},
   "outputs": [
    {
     "name": "stdout",
     "output_type": "stream",
     "text": [
      "p-значение: 0.037253715630861925\n",
      "Не получилось отвергнуть нулевую гипотезу\n"
     ]
    }
   ],
   "source": [
    "#проверяем гипотезу используя метод ttest_ind\n",
    "\n",
    "alpha = .01\n",
    "\n",
    "results = st.ttest_ind(xone.dropna(), pc.dropna(), equal_var=False)\n",
    "\n",
    "print('p-значение:', results.pvalue)\n",
    "\n",
    "\n",
    "if results.pvalue < alpha:\n",
    "    print(\"Отвергаем нулевую гипотезу\")\n",
    "else:\n",
    "    print(\"Не получилось отвергнуть нулевую гипотезу\")"
   ]
  },
  {
   "cell_type": "markdown",
   "metadata": {},
   "source": [
    "\n",
    "Значение p-value равно чуть меньше 4%. Таким образом, не получилось опровергнуть нулевую гипотезу. \n",
    "\n",
    "Получается, что  с вероятностью в 4% можно получить различность рейтингов двух платформ"
   ]
  },
  {
   "cell_type": "markdown",
   "metadata": {},
   "source": [
    "- Сформулируем нулевые гипотезы:\n",
    "\n",
    "Нулевая гипотеза H₀: Средние пользовательские рейтинги жанров Action и Sports одинаковые\n",
    "\n",
    "Альтернативная гипотеза H₁: Средние пользовательские рейтинги жанров Action и Sports различаются"
   ]
  },
  {
   "cell_type": "code",
   "execution_count": 49,
   "metadata": {},
   "outputs": [
    {
     "data": {
      "text/plain": [
       "6.839204545454545"
      ]
     },
     "execution_count": 49,
     "metadata": {},
     "output_type": "execute_result"
    }
   ],
   "source": [
    "genre_act_hyp = df[(df['genre']=='Action') & (df['year_of_release']>2006)]['user_score']\n",
    "genre_sports_hyp = df[(df['genre']=='Sports') & (df['year_of_release']>2006)]['user_score']\n",
    "\n",
    "#выведем среднюю оценку по жанру экшн\n",
    "genre_act_hyp.mean()"
   ]
  },
  {
   "cell_type": "code",
   "execution_count": 50,
   "metadata": {},
   "outputs": [
    {
     "data": {
      "text/plain": [
       "6.3086294416243645"
      ]
     },
     "execution_count": 50,
     "metadata": {},
     "output_type": "execute_result"
    }
   ],
   "source": [
    "genre_sports_hyp.mean()"
   ]
  },
  {
   "cell_type": "code",
   "execution_count": 51,
   "metadata": {},
   "outputs": [
    {
     "name": "stdout",
     "output_type": "stream",
     "text": [
      "p-значение: 3.064098789244688e-11\n",
      "Отвергаем нулевую гипотезу\n"
     ]
    }
   ],
   "source": [
    "#  Проверка гипотезы \n",
    "\n",
    "alpha = .01\n",
    "\n",
    "results = st.ttest_ind(genre_act_hyp.dropna(), genre_sports_hyp.dropna(), equal_var=False)\n",
    "\n",
    "print('p-значение:', results.pvalue)\n",
    "\n",
    "\n",
    "if (results.pvalue < alpha):\n",
    "    print(\"Отвергаем нулевую гипотезу\")\n",
    "else:\n",
    "    print(\"Не получилось отвергнуть нулевую гипотезу\")"
   ]
  },
  {
   "cell_type": "markdown",
   "metadata": {},
   "source": [
    "Исходя из полученного p-value мы отвергли нулевую гипотезу. \n",
    "Таким образом, у нас практически нет вероятности получить одинакове средние рейнтинги по указанным жанрам"
   ]
  },
  {
   "cell_type": "markdown",
   "metadata": {},
   "source": [
    "**Вывод**\n",
    "\n",
    "Гипотеза: \"Средние пользовательские рейтинги платформ Xbox one и PC одинаковые\". Нулевую гипотезу не удалось отвергнуть.\n",
    "\n",
    "Гипотеза: \"Средние пользовательские рейтинги жанров Action и Sports разные\". \n",
    "Отвергаем нулевую гипотезу."
   ]
  },
  {
   "cell_type": "markdown",
   "metadata": {},
   "source": [
    "## Общий вывод исследования"
   ]
  },
  {
   "cell_type": "markdown",
   "metadata": {},
   "source": [
    "В ходе проделанной работы было выполнено:\n",
    "\n",
    "- Изучена таблица с данными, выявлены аномалии и пропущенные значения.\n",
    "- Проведена необходимая предобработка данных\n",
    "- Определен актуальный период, проведено исследование данных\n",
    "- Составлены портреты пользователей для регионов\n",
    "- Проверены гипотезы\n",
    "\n",
    "Определили значение аббревиатуры TBD - что значит to be determined, to be done. \n",
    "Данные были нарочно не заполнены. Произвели замену tbd на nan для проведения дальнейшего анализа.\n",
    "\n",
    "В ходе анализа  мы выявили, что количество игр на игровые приставки и компьютеры начало расти с большой скоростью с 90х до 2008 года. С 2008 года после того как массово начали создавать мобильные приложения и мобильные игры, произошел резкий спад разработок консольных игр.\n",
    "За весь период консольных приставок самыми популярными стали: PS2, X360, PS3, WII, DS, PS.\n",
    "\n",
    "Также мы выявили, что средняя продолжительность жизни игровой приставки составляет около 10 лет. Самый пик продаж наступает примерно через 5 лет после выпуска.\n",
    "\n",
    "Кроме того мы заметили, что у Nintendo WII был резкий скачок в 2009 году и  резкий провал. Видимо, когда как под рукой всегда был смартфон с любыми играми на вкус, потребность в приставке отпадала.\n",
    "\n",
    "Проведя анализ оценок пользователей и критиков, стало понятно, что оценки критиков и пользователей взаимосвязаны с продажами. Чем выше оценка критиков, тем выше продажи.\n",
    "\n",
    "Cамым популярным жанром за все время стал Action. \n",
    "\n",
    "\n",
    "В ходе проведенного анализа мы выяснили, что в Северной америке самые популярные жанры это Action, Sports, Shooter. Игровые приставки : XBOX, PS2 и WII. По рейтингу игр люди предпочитают игры с рейтингами: \"для всех\", \"от 13 и выше\" и \"от 17 и выше\".\n",
    "\n",
    "В Европе популярные жанры аналогичны Северной Америке. Приоритет приставок следующий: PS2, PS3, XBOX. Рейтинг игр отличается  вторым местом, на втором месте у них \"от 17 и выше\", а на третьем \"13 и выше\".\n",
    "\n",
    "В Японии  предпочитают игровые приставки: DS, PS, PS2. А жанры: Role-playing, action и sports. Рейтинг игр аналогичный Северной Америке.\n",
    "\n",
    "**Итог:** \n",
    "\n",
    "Продажи компьютерных игр зависят от следующих факторов:\n",
    "\n",
    "кто игру создал, на какой платформе она сделана и какого она жанра.\n",
    "\n",
    "Популярны те компании, которые уже давно разрабатывают игры. Они используют свои ресурсы и опытт, и уже накопили аудиторию фанатов, которая захочет купит их игру.\n",
    "\n",
    "Чем лучше платформа, тем сильнее возможность сделать игру лучше. Жизненный цикл обусловлен скачками в технологиях.\n",
    "\n",
    "Выбор жанра - очень специфичный критерий, каждый человек уникален и имеет свой вкус. Соответственно у каждого разработчика есть аудитория со своим вкусом,  cоответственно издатели борятся за целевую аудиторию своего продукта.\n",
    "\n",
    "*Предложения:*\n",
    "\n",
    "Основную ставку делать на  современные платформы. Закупать новые игры на PS4, XOne и 3DS.\n",
    "Рекламировать наличие жанров  экшен, шутеры, спортивных и ролевых игр.\n",
    "Обращать внимание на аудиторию.\n",
    "Большая часть игр рассчитана на игроков, которым 17 лет и старше.\n"
   ]
  },
  {
   "cell_type": "code",
   "execution_count": null,
   "metadata": {},
   "outputs": [],
   "source": []
  }
 ],
 "metadata": {
  "ExecuteTimeLog": [
   {
    "duration": 1170,
    "start_time": "2022-01-10T20:23:11.611Z"
   },
   {
    "duration": 38,
    "start_time": "2022-01-10T20:23:12.783Z"
   },
   {
    "duration": 1202,
    "start_time": "2022-01-10T20:23:34.016Z"
   },
   {
    "duration": 37,
    "start_time": "2022-01-10T20:23:35.220Z"
   },
   {
    "duration": 21,
    "start_time": "2022-01-10T20:38:27.481Z"
   },
   {
    "duration": 19,
    "start_time": "2022-01-10T20:39:38.766Z"
   },
   {
    "duration": 12,
    "start_time": "2022-01-10T20:39:59.031Z"
   },
   {
    "duration": 9,
    "start_time": "2022-01-10T20:41:32.108Z"
   },
   {
    "duration": 8,
    "start_time": "2022-01-10T20:44:51.782Z"
   },
   {
    "duration": 10,
    "start_time": "2022-01-10T20:45:26.606Z"
   },
   {
    "duration": 2,
    "start_time": "2022-01-10T20:45:38.808Z"
   },
   {
    "duration": 18,
    "start_time": "2022-01-10T20:45:50.849Z"
   },
   {
    "duration": 5,
    "start_time": "2022-01-10T20:57:46.593Z"
   },
   {
    "duration": 18,
    "start_time": "2022-01-10T20:58:47.236Z"
   },
   {
    "duration": 10,
    "start_time": "2022-01-10T21:00:02.361Z"
   },
   {
    "duration": 5,
    "start_time": "2022-01-10T21:00:05.563Z"
   },
   {
    "duration": 1126,
    "start_time": "2022-01-10T21:00:10.803Z"
   },
   {
    "duration": 40,
    "start_time": "2022-01-10T21:00:11.931Z"
   },
   {
    "duration": 23,
    "start_time": "2022-01-10T21:00:11.973Z"
   },
   {
    "duration": 27,
    "start_time": "2022-01-10T21:00:11.998Z"
   },
   {
    "duration": 15,
    "start_time": "2022-01-10T21:00:12.027Z"
   },
   {
    "duration": 13,
    "start_time": "2022-01-10T21:00:12.043Z"
   },
   {
    "duration": 10,
    "start_time": "2022-01-10T21:00:12.058Z"
   },
   {
    "duration": 21,
    "start_time": "2022-01-10T21:00:12.070Z"
   },
   {
    "duration": 6,
    "start_time": "2022-01-10T21:00:12.093Z"
   },
   {
    "duration": 16,
    "start_time": "2022-01-10T21:00:12.100Z"
   },
   {
    "duration": 10,
    "start_time": "2022-01-10T21:00:28.882Z"
   },
   {
    "duration": 18,
    "start_time": "2022-01-10T21:01:00.822Z"
   },
   {
    "duration": 10,
    "start_time": "2022-01-10T21:01:17.330Z"
   },
   {
    "duration": 488,
    "start_time": "2022-01-11T21:24:25.673Z"
   },
   {
    "duration": 1158,
    "start_time": "2022-01-11T21:25:11.704Z"
   },
   {
    "duration": 37,
    "start_time": "2022-01-11T21:25:12.864Z"
   },
   {
    "duration": 18,
    "start_time": "2022-01-11T21:25:12.903Z"
   },
   {
    "duration": 15,
    "start_time": "2022-01-11T21:25:12.923Z"
   },
   {
    "duration": 14,
    "start_time": "2022-01-11T21:25:12.940Z"
   },
   {
    "duration": 5,
    "start_time": "2022-01-11T21:25:12.956Z"
   },
   {
    "duration": 8,
    "start_time": "2022-01-11T21:25:12.963Z"
   },
   {
    "duration": 17,
    "start_time": "2022-01-11T21:25:12.973Z"
   },
   {
    "duration": 4,
    "start_time": "2022-01-11T21:25:12.992Z"
   },
   {
    "duration": 5,
    "start_time": "2022-01-11T21:25:12.997Z"
   },
   {
    "duration": 40,
    "start_time": "2022-01-11T21:25:13.004Z"
   },
   {
    "duration": 13,
    "start_time": "2022-01-11T21:25:13.045Z"
   },
   {
    "duration": 369,
    "start_time": "2022-01-11T21:25:13.059Z"
   },
   {
    "duration": 458,
    "start_time": "2022-01-11T22:08:00.747Z"
   },
   {
    "duration": 343,
    "start_time": "2022-01-11T22:08:59.525Z"
   },
   {
    "duration": 12,
    "start_time": "2022-01-11T22:09:03.350Z"
   },
   {
    "duration": 5,
    "start_time": "2022-01-11T22:09:04.417Z"
   },
   {
    "duration": 5,
    "start_time": "2022-01-11T22:09:14.317Z"
   },
   {
    "duration": 5,
    "start_time": "2022-01-11T22:09:19.172Z"
   },
   {
    "duration": 3,
    "start_time": "2022-01-11T22:09:30.520Z"
   },
   {
    "duration": 4,
    "start_time": "2022-01-11T22:09:32.909Z"
   },
   {
    "duration": 1180,
    "start_time": "2022-01-11T22:09:38.650Z"
   },
   {
    "duration": 43,
    "start_time": "2022-01-11T22:09:39.832Z"
   },
   {
    "duration": 21,
    "start_time": "2022-01-11T22:09:39.877Z"
   },
   {
    "duration": 10,
    "start_time": "2022-01-11T22:09:39.899Z"
   },
   {
    "duration": 7,
    "start_time": "2022-01-11T22:09:39.911Z"
   },
   {
    "duration": 12,
    "start_time": "2022-01-11T22:09:39.920Z"
   },
   {
    "duration": 16,
    "start_time": "2022-01-11T22:09:39.934Z"
   },
   {
    "duration": 18,
    "start_time": "2022-01-11T22:09:39.953Z"
   },
   {
    "duration": 5,
    "start_time": "2022-01-11T22:09:39.974Z"
   },
   {
    "duration": 4,
    "start_time": "2022-01-11T22:09:39.981Z"
   },
   {
    "duration": 45,
    "start_time": "2022-01-11T22:09:39.987Z"
   },
   {
    "duration": 13,
    "start_time": "2022-01-11T22:09:40.034Z"
   },
   {
    "duration": 360,
    "start_time": "2022-01-11T22:09:40.049Z"
   },
   {
    "duration": 11,
    "start_time": "2022-01-11T22:09:40.411Z"
   },
   {
    "duration": 26,
    "start_time": "2022-01-11T22:09:40.423Z"
   },
   {
    "duration": 10,
    "start_time": "2022-01-11T22:10:55.673Z"
   },
   {
    "duration": 8,
    "start_time": "2022-01-11T22:12:51.353Z"
   },
   {
    "duration": 20,
    "start_time": "2022-01-11T22:12:56.407Z"
   },
   {
    "duration": 307,
    "start_time": "2022-01-12T19:57:12.773Z"
   },
   {
    "duration": 1257,
    "start_time": "2022-01-12T19:57:20.181Z"
   },
   {
    "duration": 46,
    "start_time": "2022-01-12T19:57:21.440Z"
   },
   {
    "duration": 23,
    "start_time": "2022-01-12T19:57:21.488Z"
   },
   {
    "duration": 15,
    "start_time": "2022-01-12T19:57:21.513Z"
   },
   {
    "duration": 17,
    "start_time": "2022-01-12T19:57:21.529Z"
   },
   {
    "duration": 15,
    "start_time": "2022-01-12T19:57:21.548Z"
   },
   {
    "duration": 14,
    "start_time": "2022-01-12T19:57:21.565Z"
   },
   {
    "duration": 34,
    "start_time": "2022-01-12T19:57:21.581Z"
   },
   {
    "duration": 6,
    "start_time": "2022-01-12T19:57:21.619Z"
   },
   {
    "duration": 7,
    "start_time": "2022-01-12T19:57:21.627Z"
   },
   {
    "duration": 53,
    "start_time": "2022-01-12T19:57:21.636Z"
   },
   {
    "duration": 13,
    "start_time": "2022-01-12T19:57:21.692Z"
   },
   {
    "duration": 460,
    "start_time": "2022-01-12T19:57:21.706Z"
   },
   {
    "duration": 18,
    "start_time": "2022-01-12T19:57:22.169Z"
   },
   {
    "duration": 7,
    "start_time": "2022-01-12T19:57:22.189Z"
   },
   {
    "duration": 17,
    "start_time": "2022-01-12T19:57:22.198Z"
   },
   {
    "duration": 24,
    "start_time": "2022-01-12T19:57:22.216Z"
   },
   {
    "duration": 380,
    "start_time": "2022-01-12T19:57:22.242Z"
   },
   {
    "duration": 458,
    "start_time": "2022-01-12T20:08:35.646Z"
   },
   {
    "duration": 295,
    "start_time": "2022-01-12T20:09:20.950Z"
   },
   {
    "duration": 354,
    "start_time": "2022-01-12T20:09:38.793Z"
   },
   {
    "duration": 601,
    "start_time": "2022-01-12T20:09:52.334Z"
   },
   {
    "duration": 4,
    "start_time": "2022-01-12T20:19:48.942Z"
   },
   {
    "duration": 12,
    "start_time": "2022-01-12T20:23:49.234Z"
   },
   {
    "duration": 8,
    "start_time": "2022-01-12T20:24:03.955Z"
   },
   {
    "duration": 493,
    "start_time": "2022-01-12T20:26:11.110Z"
   },
   {
    "duration": 7,
    "start_time": "2022-01-12T20:50:05.694Z"
   },
   {
    "duration": 7,
    "start_time": "2022-01-12T20:50:38.393Z"
   },
   {
    "duration": 5,
    "start_time": "2022-01-12T20:50:50.920Z"
   },
   {
    "duration": 9,
    "start_time": "2022-01-12T20:50:51.748Z"
   },
   {
    "duration": 1206,
    "start_time": "2022-01-12T20:52:09.345Z"
   },
   {
    "duration": 49,
    "start_time": "2022-01-12T20:52:10.553Z"
   },
   {
    "duration": 22,
    "start_time": "2022-01-12T20:52:10.605Z"
   },
   {
    "duration": 10,
    "start_time": "2022-01-12T20:52:10.629Z"
   },
   {
    "duration": 25,
    "start_time": "2022-01-12T20:52:10.641Z"
   },
   {
    "duration": 11,
    "start_time": "2022-01-12T20:52:10.669Z"
   },
   {
    "duration": 9,
    "start_time": "2022-01-12T20:52:10.682Z"
   },
   {
    "duration": 15,
    "start_time": "2022-01-12T20:52:10.694Z"
   },
   {
    "duration": 4,
    "start_time": "2022-01-12T20:52:10.711Z"
   },
   {
    "duration": 5,
    "start_time": "2022-01-12T20:52:10.717Z"
   },
   {
    "duration": 54,
    "start_time": "2022-01-12T20:52:10.724Z"
   },
   {
    "duration": 10,
    "start_time": "2022-01-12T20:52:10.779Z"
   },
   {
    "duration": 385,
    "start_time": "2022-01-12T20:52:10.790Z"
   },
   {
    "duration": 11,
    "start_time": "2022-01-12T20:52:11.178Z"
   },
   {
    "duration": 7,
    "start_time": "2022-01-12T20:52:11.191Z"
   },
   {
    "duration": 9,
    "start_time": "2022-01-12T20:52:11.200Z"
   },
   {
    "duration": 21,
    "start_time": "2022-01-12T20:52:11.211Z"
   },
   {
    "duration": 374,
    "start_time": "2022-01-12T20:52:11.234Z"
   },
   {
    "duration": 480,
    "start_time": "2022-01-12T20:52:11.610Z"
   },
   {
    "duration": 5,
    "start_time": "2022-01-12T20:52:12.093Z"
   },
   {
    "duration": 14,
    "start_time": "2022-01-12T20:52:12.099Z"
   },
   {
    "duration": 6,
    "start_time": "2022-01-12T20:52:12.115Z"
   },
   {
    "duration": 511,
    "start_time": "2022-01-12T20:52:12.123Z"
   },
   {
    "duration": 5,
    "start_time": "2022-01-12T20:52:12.636Z"
   },
   {
    "duration": 9,
    "start_time": "2022-01-12T20:52:12.642Z"
   },
   {
    "duration": 6,
    "start_time": "2022-01-12T20:52:43.953Z"
   },
   {
    "duration": 9,
    "start_time": "2022-01-12T20:52:44.658Z"
   },
   {
    "duration": 8,
    "start_time": "2022-01-12T20:58:48.390Z"
   },
   {
    "duration": 8,
    "start_time": "2022-01-12T20:58:49.434Z"
   },
   {
    "duration": 8,
    "start_time": "2022-01-12T20:59:43.679Z"
   },
   {
    "duration": 8,
    "start_time": "2022-01-12T20:59:44.284Z"
   },
   {
    "duration": 265,
    "start_time": "2022-01-12T21:00:45.658Z"
   },
   {
    "duration": 8,
    "start_time": "2022-01-12T21:06:51.189Z"
   },
   {
    "duration": 9,
    "start_time": "2022-01-12T21:06:52.163Z"
   },
   {
    "duration": 344,
    "start_time": "2022-01-12T21:06:53.734Z"
   },
   {
    "duration": 9,
    "start_time": "2022-01-12T21:11:45.612Z"
   },
   {
    "duration": 349,
    "start_time": "2022-01-12T21:12:18.899Z"
   },
   {
    "duration": 6,
    "start_time": "2022-01-12T21:13:10.991Z"
   },
   {
    "duration": 437,
    "start_time": "2022-01-12T21:13:52.902Z"
   },
   {
    "duration": 8,
    "start_time": "2022-01-12T21:22:58.331Z"
   },
   {
    "duration": 1225,
    "start_time": "2022-01-12T21:27:39.339Z"
   },
   {
    "duration": 1095,
    "start_time": "2022-01-12T21:29:22.672Z"
   },
   {
    "duration": 8,
    "start_time": "2022-01-12T21:29:40.839Z"
   },
   {
    "duration": 2740,
    "start_time": "2022-01-12T21:29:43.023Z"
   },
   {
    "duration": 56,
    "start_time": "2022-01-12T21:37:33.266Z"
   },
   {
    "duration": 56,
    "start_time": "2022-01-12T21:38:26.473Z"
   },
   {
    "duration": 1160,
    "start_time": "2022-01-14T22:03:00.893Z"
   },
   {
    "duration": 39,
    "start_time": "2022-01-14T22:03:02.055Z"
   },
   {
    "duration": 21,
    "start_time": "2022-01-14T22:03:02.096Z"
   },
   {
    "duration": 10,
    "start_time": "2022-01-14T22:03:02.119Z"
   },
   {
    "duration": 11,
    "start_time": "2022-01-14T22:03:02.131Z"
   },
   {
    "duration": 10,
    "start_time": "2022-01-14T22:03:02.143Z"
   },
   {
    "duration": 37,
    "start_time": "2022-01-14T22:03:02.155Z"
   },
   {
    "duration": 16,
    "start_time": "2022-01-14T22:03:02.194Z"
   },
   {
    "duration": 5,
    "start_time": "2022-01-14T22:03:02.212Z"
   },
   {
    "duration": 15,
    "start_time": "2022-01-14T22:03:02.218Z"
   },
   {
    "duration": 21,
    "start_time": "2022-01-14T22:03:02.234Z"
   },
   {
    "duration": 9,
    "start_time": "2022-01-14T22:03:02.257Z"
   },
   {
    "duration": 379,
    "start_time": "2022-01-14T22:03:02.268Z"
   },
   {
    "duration": 12,
    "start_time": "2022-01-14T22:03:02.648Z"
   },
   {
    "duration": 9,
    "start_time": "2022-01-14T22:03:02.661Z"
   },
   {
    "duration": 19,
    "start_time": "2022-01-14T22:03:02.672Z"
   },
   {
    "duration": 20,
    "start_time": "2022-01-14T22:03:02.693Z"
   },
   {
    "duration": 360,
    "start_time": "2022-01-14T22:03:02.715Z"
   },
   {
    "duration": 460,
    "start_time": "2022-01-14T22:03:03.076Z"
   },
   {
    "duration": 3,
    "start_time": "2022-01-14T22:03:03.537Z"
   },
   {
    "duration": 14,
    "start_time": "2022-01-14T22:03:03.542Z"
   },
   {
    "duration": 6,
    "start_time": "2022-01-14T22:03:03.558Z"
   },
   {
    "duration": 495,
    "start_time": "2022-01-14T22:03:03.567Z"
   },
   {
    "duration": 8,
    "start_time": "2022-01-14T22:03:04.064Z"
   },
   {
    "duration": 11,
    "start_time": "2022-01-14T22:03:04.074Z"
   },
   {
    "duration": 300,
    "start_time": "2022-01-14T22:03:04.086Z"
   },
   {
    "duration": 7,
    "start_time": "2022-01-14T22:03:04.391Z"
   },
   {
    "duration": 67,
    "start_time": "2022-01-14T22:03:04.400Z"
   },
   {
    "duration": -624,
    "start_time": "2022-01-14T22:03:05.093Z"
   },
   {
    "duration": -654,
    "start_time": "2022-01-14T22:03:05.124Z"
   },
   {
    "duration": -675,
    "start_time": "2022-01-14T22:03:05.145Z"
   },
   {
    "duration": -679,
    "start_time": "2022-01-14T22:03:05.150Z"
   },
   {
    "duration": -682,
    "start_time": "2022-01-14T22:03:05.154Z"
   },
   {
    "duration": -689,
    "start_time": "2022-01-14T22:03:05.162Z"
   },
   {
    "duration": 467,
    "start_time": "2022-01-14T22:03:47.017Z"
   },
   {
    "duration": 5,
    "start_time": "2022-01-14T22:03:49.040Z"
   },
   {
    "duration": 397,
    "start_time": "2022-01-14T22:03:51.889Z"
   },
   {
    "duration": 8,
    "start_time": "2022-01-14T22:03:57.610Z"
   },
   {
    "duration": 2811,
    "start_time": "2022-01-14T22:04:02.986Z"
   },
   {
    "duration": 61,
    "start_time": "2022-01-14T22:04:05.799Z"
   },
   {
    "duration": 59,
    "start_time": "2022-01-14T22:04:08.284Z"
   },
   {
    "duration": 16,
    "start_time": "2022-01-14T22:05:38.303Z"
   },
   {
    "duration": 332,
    "start_time": "2022-01-14T22:07:14.304Z"
   },
   {
    "duration": 12,
    "start_time": "2022-01-14T22:39:16.355Z"
   },
   {
    "duration": 10,
    "start_time": "2022-01-14T22:41:28.613Z"
   },
   {
    "duration": 10,
    "start_time": "2022-01-14T22:42:49.023Z"
   },
   {
    "duration": 14,
    "start_time": "2022-01-14T22:45:53.060Z"
   },
   {
    "duration": 321,
    "start_time": "2022-01-15T11:47:21.298Z"
   },
   {
    "duration": 1512,
    "start_time": "2022-01-15T11:47:31.577Z"
   },
   {
    "duration": 48,
    "start_time": "2022-01-15T11:47:33.092Z"
   },
   {
    "duration": 35,
    "start_time": "2022-01-15T11:47:33.143Z"
   },
   {
    "duration": 41,
    "start_time": "2022-01-15T11:47:33.182Z"
   },
   {
    "duration": 11,
    "start_time": "2022-01-15T11:47:33.226Z"
   },
   {
    "duration": 9,
    "start_time": "2022-01-15T11:47:33.240Z"
   },
   {
    "duration": 10,
    "start_time": "2022-01-15T11:47:33.252Z"
   },
   {
    "duration": 61,
    "start_time": "2022-01-15T11:47:33.264Z"
   },
   {
    "duration": 6,
    "start_time": "2022-01-15T11:47:33.329Z"
   },
   {
    "duration": 6,
    "start_time": "2022-01-15T11:47:33.338Z"
   },
   {
    "duration": 27,
    "start_time": "2022-01-15T11:47:33.347Z"
   },
   {
    "duration": 48,
    "start_time": "2022-01-15T11:47:33.377Z"
   },
   {
    "duration": 544,
    "start_time": "2022-01-15T11:47:33.428Z"
   },
   {
    "duration": 17,
    "start_time": "2022-01-15T11:47:33.974Z"
   },
   {
    "duration": 11,
    "start_time": "2022-01-15T11:47:33.993Z"
   },
   {
    "duration": 10,
    "start_time": "2022-01-15T11:47:34.017Z"
   },
   {
    "duration": 30,
    "start_time": "2022-01-15T11:47:34.029Z"
   },
   {
    "duration": 546,
    "start_time": "2022-01-15T11:47:34.061Z"
   },
   {
    "duration": 690,
    "start_time": "2022-01-15T11:47:34.618Z"
   },
   {
    "duration": 9,
    "start_time": "2022-01-15T11:47:35.311Z"
   },
   {
    "duration": 23,
    "start_time": "2022-01-15T11:47:35.322Z"
   },
   {
    "duration": 9,
    "start_time": "2022-01-15T11:47:35.347Z"
   },
   {
    "duration": 760,
    "start_time": "2022-01-15T11:47:35.358Z"
   },
   {
    "duration": 11,
    "start_time": "2022-01-15T11:47:36.120Z"
   },
   {
    "duration": 11,
    "start_time": "2022-01-15T11:47:36.133Z"
   },
   {
    "duration": 505,
    "start_time": "2022-01-15T11:47:36.147Z"
   },
   {
    "duration": 11,
    "start_time": "2022-01-15T11:47:36.657Z"
   },
   {
    "duration": 628,
    "start_time": "2022-01-15T11:47:36.670Z"
   },
   {
    "duration": 19,
    "start_time": "2022-01-15T11:47:37.300Z"
   },
   {
    "duration": 557,
    "start_time": "2022-01-15T11:47:37.321Z"
   },
   {
    "duration": 12,
    "start_time": "2022-01-15T11:47:37.881Z"
   },
   {
    "duration": 4246,
    "start_time": "2022-01-15T11:47:37.896Z"
   },
   {
    "duration": 97,
    "start_time": "2022-01-15T11:47:42.145Z"
   },
   {
    "duration": 105,
    "start_time": "2022-01-15T11:47:42.244Z"
   },
   {
    "duration": 23,
    "start_time": "2022-01-15T11:47:42.351Z"
   },
   {
    "duration": 561,
    "start_time": "2022-01-15T11:47:42.376Z"
   },
   {
    "duration": 9,
    "start_time": "2022-01-15T11:47:42.940Z"
   },
   {
    "duration": 7,
    "start_time": "2022-01-15T11:51:32.877Z"
   },
   {
    "duration": 1869,
    "start_time": "2022-01-15T11:52:19.659Z"
   },
   {
    "duration": 8,
    "start_time": "2022-01-15T11:52:38.859Z"
   },
   {
    "duration": 7,
    "start_time": "2022-01-15T11:52:39.595Z"
   },
   {
    "duration": 9,
    "start_time": "2022-01-15T11:53:56.995Z"
   },
   {
    "duration": 1488,
    "start_time": "2022-01-15T11:54:03.392Z"
   },
   {
    "duration": 47,
    "start_time": "2022-01-15T11:54:04.882Z"
   },
   {
    "duration": 33,
    "start_time": "2022-01-15T11:54:04.932Z"
   },
   {
    "duration": 13,
    "start_time": "2022-01-15T11:54:04.968Z"
   },
   {
    "duration": 35,
    "start_time": "2022-01-15T11:54:04.984Z"
   },
   {
    "duration": 9,
    "start_time": "2022-01-15T11:54:05.021Z"
   },
   {
    "duration": 11,
    "start_time": "2022-01-15T11:54:05.032Z"
   },
   {
    "duration": 23,
    "start_time": "2022-01-15T11:54:05.047Z"
   },
   {
    "duration": 45,
    "start_time": "2022-01-15T11:54:05.073Z"
   },
   {
    "duration": 6,
    "start_time": "2022-01-15T11:54:05.120Z"
   },
   {
    "duration": 27,
    "start_time": "2022-01-15T11:54:05.128Z"
   },
   {
    "duration": 14,
    "start_time": "2022-01-15T11:54:05.158Z"
   },
   {
    "duration": 561,
    "start_time": "2022-01-15T11:54:05.174Z"
   },
   {
    "duration": 18,
    "start_time": "2022-01-15T11:54:05.737Z"
   },
   {
    "duration": 5,
    "start_time": "2022-01-15T11:54:05.758Z"
   },
   {
    "duration": 10,
    "start_time": "2022-01-15T11:54:05.766Z"
   },
   {
    "duration": 55,
    "start_time": "2022-01-15T11:54:05.778Z"
   },
   {
    "duration": 545,
    "start_time": "2022-01-15T11:54:05.835Z"
   },
   {
    "duration": 705,
    "start_time": "2022-01-15T11:54:06.383Z"
   },
   {
    "duration": 5,
    "start_time": "2022-01-15T11:54:07.090Z"
   },
   {
    "duration": 38,
    "start_time": "2022-01-15T11:54:07.097Z"
   },
   {
    "duration": 9,
    "start_time": "2022-01-15T11:54:07.138Z"
   },
   {
    "duration": 756,
    "start_time": "2022-01-15T11:54:07.152Z"
   },
   {
    "duration": 15,
    "start_time": "2022-01-15T11:54:07.911Z"
   },
   {
    "duration": 12,
    "start_time": "2022-01-15T11:54:07.928Z"
   },
   {
    "duration": 490,
    "start_time": "2022-01-15T11:54:07.942Z"
   },
   {
    "duration": 10,
    "start_time": "2022-01-15T11:54:08.434Z"
   },
   {
    "duration": 628,
    "start_time": "2022-01-15T11:54:08.447Z"
   },
   {
    "duration": 7,
    "start_time": "2022-01-15T11:54:09.077Z"
   },
   {
    "duration": 587,
    "start_time": "2022-01-15T11:54:09.086Z"
   },
   {
    "duration": 13,
    "start_time": "2022-01-15T11:54:09.675Z"
   },
   {
    "duration": 4453,
    "start_time": "2022-01-15T11:54:09.691Z"
   },
   {
    "duration": 99,
    "start_time": "2022-01-15T11:54:14.146Z"
   },
   {
    "duration": 104,
    "start_time": "2022-01-15T11:54:14.247Z"
   },
   {
    "duration": 24,
    "start_time": "2022-01-15T11:54:14.354Z"
   },
   {
    "duration": 593,
    "start_time": "2022-01-15T11:54:14.381Z"
   },
   {
    "duration": 8,
    "start_time": "2022-01-15T11:54:14.976Z"
   },
   {
    "duration": 10,
    "start_time": "2022-01-15T11:54:14.986Z"
   },
   {
    "duration": 973,
    "start_time": "2022-01-15T11:54:14.999Z"
   },
   {
    "duration": 989,
    "start_time": "2022-01-15T11:55:40.605Z"
   },
   {
    "duration": 913,
    "start_time": "2022-01-15T11:55:49.248Z"
   },
   {
    "duration": 7,
    "start_time": "2022-01-15T11:57:07.477Z"
   },
   {
    "duration": 915,
    "start_time": "2022-01-15T11:57:11.581Z"
   },
   {
    "duration": 945,
    "start_time": "2022-01-15T11:57:23.712Z"
   },
   {
    "duration": 7,
    "start_time": "2022-01-15T11:58:08.579Z"
   },
   {
    "duration": 913,
    "start_time": "2022-01-15T11:58:11.890Z"
   },
   {
    "duration": 1394,
    "start_time": "2022-01-15T11:58:15.593Z"
   },
   {
    "duration": 926,
    "start_time": "2022-01-15T12:09:49.854Z"
   },
   {
    "duration": 948,
    "start_time": "2022-01-15T12:10:08.802Z"
   },
   {
    "duration": 1048,
    "start_time": "2022-01-15T12:10:53.594Z"
   },
   {
    "duration": 1044,
    "start_time": "2022-01-15T12:10:54.645Z"
   },
   {
    "duration": 968,
    "start_time": "2022-01-15T12:14:46.534Z"
   },
   {
    "duration": 1025,
    "start_time": "2022-01-15T12:15:08.877Z"
   },
   {
    "duration": 82,
    "start_time": "2022-01-15T12:17:53.868Z"
   },
   {
    "duration": 18,
    "start_time": "2022-01-15T12:26:24.635Z"
   },
   {
    "duration": 14,
    "start_time": "2022-01-15T12:26:28.198Z"
   },
   {
    "duration": 12,
    "start_time": "2022-01-15T12:27:18.019Z"
   },
   {
    "duration": 5,
    "start_time": "2022-01-15T12:27:22.372Z"
   },
   {
    "duration": 6,
    "start_time": "2022-01-15T12:28:10.279Z"
   },
   {
    "duration": 29,
    "start_time": "2022-01-15T12:28:57.539Z"
   },
   {
    "duration": 7,
    "start_time": "2022-01-15T12:38:45.585Z"
   },
   {
    "duration": 6,
    "start_time": "2022-01-15T12:39:04.999Z"
   },
   {
    "duration": 393,
    "start_time": "2022-01-15T12:39:18.650Z"
   },
   {
    "duration": 15,
    "start_time": "2022-01-15T12:39:58.236Z"
   },
   {
    "duration": 7,
    "start_time": "2022-01-15T12:40:32.508Z"
   },
   {
    "duration": 30,
    "start_time": "2022-01-15T12:50:47.621Z"
   },
   {
    "duration": 6,
    "start_time": "2022-01-15T12:54:59.755Z"
   },
   {
    "duration": 263,
    "start_time": "2022-01-15T13:01:52.341Z"
   },
   {
    "duration": 12,
    "start_time": "2022-01-15T13:02:04.797Z"
   },
   {
    "duration": 11,
    "start_time": "2022-01-15T13:02:29.878Z"
   },
   {
    "duration": 11,
    "start_time": "2022-01-15T13:02:41.634Z"
   },
   {
    "duration": 83,
    "start_time": "2022-01-15T13:02:53.878Z"
   },
   {
    "duration": 6,
    "start_time": "2022-01-15T13:02:58.300Z"
   },
   {
    "duration": 15,
    "start_time": "2022-01-15T13:03:59.076Z"
   },
   {
    "duration": 16,
    "start_time": "2022-01-15T13:04:30.933Z"
   },
   {
    "duration": 6,
    "start_time": "2022-01-15T13:04:57.233Z"
   },
   {
    "duration": 10,
    "start_time": "2022-01-15T13:10:09.210Z"
   },
   {
    "duration": 1539,
    "start_time": "2022-01-15T15:20:43.134Z"
   },
   {
    "duration": 48,
    "start_time": "2022-01-15T15:20:44.675Z"
   },
   {
    "duration": 33,
    "start_time": "2022-01-15T15:20:44.726Z"
   },
   {
    "duration": 13,
    "start_time": "2022-01-15T15:20:44.762Z"
   },
   {
    "duration": 11,
    "start_time": "2022-01-15T15:20:44.777Z"
   },
   {
    "duration": 36,
    "start_time": "2022-01-15T15:20:44.790Z"
   },
   {
    "duration": 9,
    "start_time": "2022-01-15T15:20:44.828Z"
   },
   {
    "duration": 25,
    "start_time": "2022-01-15T15:20:44.843Z"
   },
   {
    "duration": 6,
    "start_time": "2022-01-15T15:20:44.871Z"
   },
   {
    "duration": 6,
    "start_time": "2022-01-15T15:20:44.918Z"
   },
   {
    "duration": 26,
    "start_time": "2022-01-15T15:20:44.927Z"
   },
   {
    "duration": 15,
    "start_time": "2022-01-15T15:20:44.956Z"
   },
   {
    "duration": 565,
    "start_time": "2022-01-15T15:20:44.973Z"
   },
   {
    "duration": 17,
    "start_time": "2022-01-15T15:20:45.540Z"
   },
   {
    "duration": 8,
    "start_time": "2022-01-15T15:20:45.560Z"
   },
   {
    "duration": 13,
    "start_time": "2022-01-15T15:20:45.570Z"
   },
   {
    "duration": 58,
    "start_time": "2022-01-15T15:20:45.585Z"
   },
   {
    "duration": 564,
    "start_time": "2022-01-15T15:20:45.646Z"
   },
   {
    "duration": 817,
    "start_time": "2022-01-15T15:20:46.212Z"
   },
   {
    "duration": 5,
    "start_time": "2022-01-15T15:20:47.031Z"
   },
   {
    "duration": 25,
    "start_time": "2022-01-15T15:20:47.039Z"
   },
   {
    "duration": 9,
    "start_time": "2022-01-15T15:20:47.067Z"
   },
   {
    "duration": 820,
    "start_time": "2022-01-15T15:20:47.082Z"
   },
   {
    "duration": 13,
    "start_time": "2022-01-15T15:20:47.905Z"
   },
   {
    "duration": 11,
    "start_time": "2022-01-15T15:20:47.920Z"
   },
   {
    "duration": 514,
    "start_time": "2022-01-15T15:20:47.933Z"
   },
   {
    "duration": 11,
    "start_time": "2022-01-15T15:20:48.449Z"
   },
   {
    "duration": 655,
    "start_time": "2022-01-15T15:20:48.462Z"
   },
   {
    "duration": 9,
    "start_time": "2022-01-15T15:20:49.119Z"
   },
   {
    "duration": 539,
    "start_time": "2022-01-15T15:20:49.131Z"
   },
   {
    "duration": 13,
    "start_time": "2022-01-15T15:20:49.674Z"
   },
   {
    "duration": 4113,
    "start_time": "2022-01-15T15:20:49.690Z"
   },
   {
    "duration": 95,
    "start_time": "2022-01-15T15:20:53.806Z"
   },
   {
    "duration": 105,
    "start_time": "2022-01-15T15:20:53.918Z"
   },
   {
    "duration": 24,
    "start_time": "2022-01-15T15:20:54.026Z"
   },
   {
    "duration": 571,
    "start_time": "2022-01-15T15:20:54.053Z"
   },
   {
    "duration": 10,
    "start_time": "2022-01-15T15:20:54.627Z"
   },
   {
    "duration": 9,
    "start_time": "2022-01-15T15:20:54.640Z"
   },
   {
    "duration": 968,
    "start_time": "2022-01-15T15:20:54.651Z"
   },
   {
    "duration": 1113,
    "start_time": "2022-01-15T15:20:55.622Z"
   },
   {
    "duration": 1020,
    "start_time": "2022-01-15T15:20:56.737Z"
   },
   {
    "duration": 1024,
    "start_time": "2022-01-15T15:20:57.759Z"
   },
   {
    "duration": 1017,
    "start_time": "2022-01-15T15:20:58.785Z"
   },
   {
    "duration": 931,
    "start_time": "2022-01-15T15:20:59.804Z"
   },
   {
    "duration": 6,
    "start_time": "2022-01-15T15:21:00.738Z"
   },
   {
    "duration": 15,
    "start_time": "2022-01-15T15:21:00.747Z"
   },
   {
    "duration": 5,
    "start_time": "2022-01-15T15:21:00.765Z"
   },
   {
    "duration": 47,
    "start_time": "2022-01-15T15:21:00.772Z"
   },
   {
    "duration": 6,
    "start_time": "2022-01-15T15:30:03.655Z"
   },
   {
    "duration": 15,
    "start_time": "2022-01-15T15:30:32.701Z"
   },
   {
    "duration": 7,
    "start_time": "2022-01-15T15:30:44.225Z"
   },
   {
    "duration": 9,
    "start_time": "2022-01-15T15:31:37.917Z"
   },
   {
    "duration": 1722,
    "start_time": "2022-01-15T15:56:24.779Z"
   },
   {
    "duration": 49,
    "start_time": "2022-01-15T15:56:26.504Z"
   },
   {
    "duration": 61,
    "start_time": "2022-01-15T15:56:26.556Z"
   },
   {
    "duration": 15,
    "start_time": "2022-01-15T15:56:26.620Z"
   },
   {
    "duration": 14,
    "start_time": "2022-01-15T15:56:26.637Z"
   },
   {
    "duration": 18,
    "start_time": "2022-01-15T15:56:26.653Z"
   },
   {
    "duration": 19,
    "start_time": "2022-01-15T15:56:26.674Z"
   },
   {
    "duration": 48,
    "start_time": "2022-01-15T15:56:26.697Z"
   },
   {
    "duration": 12,
    "start_time": "2022-01-15T15:56:26.749Z"
   },
   {
    "duration": 18,
    "start_time": "2022-01-15T15:56:26.763Z"
   },
   {
    "duration": 55,
    "start_time": "2022-01-15T15:56:26.784Z"
   },
   {
    "duration": 25,
    "start_time": "2022-01-15T15:56:26.842Z"
   },
   {
    "duration": 602,
    "start_time": "2022-01-15T15:56:26.869Z"
   },
   {
    "duration": 19,
    "start_time": "2022-01-15T15:56:27.474Z"
   },
   {
    "duration": 27,
    "start_time": "2022-01-15T15:56:27.495Z"
   },
   {
    "duration": 23,
    "start_time": "2022-01-15T15:56:27.525Z"
   },
   {
    "duration": 37,
    "start_time": "2022-01-15T15:56:27.552Z"
   },
   {
    "duration": 574,
    "start_time": "2022-01-15T15:56:27.592Z"
   },
   {
    "duration": 748,
    "start_time": "2022-01-15T15:56:28.169Z"
   },
   {
    "duration": 5,
    "start_time": "2022-01-15T15:56:28.919Z"
   },
   {
    "duration": 19,
    "start_time": "2022-01-15T15:56:28.926Z"
   },
   {
    "duration": 9,
    "start_time": "2022-01-15T15:56:28.948Z"
   },
   {
    "duration": 790,
    "start_time": "2022-01-15T15:56:28.962Z"
   },
   {
    "duration": 11,
    "start_time": "2022-01-15T15:56:29.755Z"
   },
   {
    "duration": 14,
    "start_time": "2022-01-15T15:56:29.769Z"
   },
   {
    "duration": 498,
    "start_time": "2022-01-15T15:56:29.785Z"
   },
   {
    "duration": 11,
    "start_time": "2022-01-15T15:56:30.286Z"
   },
   {
    "duration": 757,
    "start_time": "2022-01-15T15:56:30.299Z"
   },
   {
    "duration": 7,
    "start_time": "2022-01-15T15:56:31.059Z"
   },
   {
    "duration": 654,
    "start_time": "2022-01-15T15:56:31.068Z"
   },
   {
    "duration": 12,
    "start_time": "2022-01-15T15:56:31.725Z"
   },
   {
    "duration": 4378,
    "start_time": "2022-01-15T15:56:31.739Z"
   },
   {
    "duration": 98,
    "start_time": "2022-01-15T15:56:36.120Z"
   },
   {
    "duration": 76,
    "start_time": "2022-01-15T15:56:36.221Z"
   },
   {
    "duration": 38,
    "start_time": "2022-01-15T15:56:36.300Z"
   },
   {
    "duration": 564,
    "start_time": "2022-01-15T15:56:36.341Z"
   },
   {
    "duration": 13,
    "start_time": "2022-01-15T15:56:36.908Z"
   },
   {
    "duration": 9,
    "start_time": "2022-01-15T15:56:36.924Z"
   },
   {
    "duration": 970,
    "start_time": "2022-01-15T15:56:36.935Z"
   },
   {
    "duration": 1095,
    "start_time": "2022-01-15T15:56:37.908Z"
   },
   {
    "duration": 1112,
    "start_time": "2022-01-15T15:56:39.005Z"
   },
   {
    "duration": 1004,
    "start_time": "2022-01-15T15:56:40.119Z"
   },
   {
    "duration": 1136,
    "start_time": "2022-01-15T15:56:41.126Z"
   },
   {
    "duration": 969,
    "start_time": "2022-01-15T15:56:42.265Z"
   },
   {
    "duration": 6,
    "start_time": "2022-01-15T15:56:43.236Z"
   },
   {
    "duration": 21,
    "start_time": "2022-01-15T15:56:43.244Z"
   },
   {
    "duration": 6,
    "start_time": "2022-01-15T15:56:43.268Z"
   },
   {
    "duration": 14,
    "start_time": "2022-01-15T15:56:43.276Z"
   },
   {
    "duration": 15,
    "start_time": "2022-01-15T15:56:43.292Z"
   },
   {
    "duration": 9,
    "start_time": "2022-01-15T15:56:43.310Z"
   },
   {
    "duration": 10,
    "start_time": "2022-01-15T15:56:43.321Z"
   },
   {
    "duration": 1506,
    "start_time": "2022-01-15T16:01:29.194Z"
   },
   {
    "duration": 49,
    "start_time": "2022-01-15T16:01:30.703Z"
   },
   {
    "duration": 32,
    "start_time": "2022-01-15T16:01:30.756Z"
   },
   {
    "duration": 34,
    "start_time": "2022-01-15T16:01:30.791Z"
   },
   {
    "duration": 13,
    "start_time": "2022-01-15T16:01:30.827Z"
   },
   {
    "duration": 13,
    "start_time": "2022-01-15T16:01:30.842Z"
   },
   {
    "duration": 20,
    "start_time": "2022-01-15T16:01:30.858Z"
   },
   {
    "duration": 48,
    "start_time": "2022-01-15T16:01:30.882Z"
   },
   {
    "duration": 9,
    "start_time": "2022-01-15T16:01:30.933Z"
   },
   {
    "duration": 14,
    "start_time": "2022-01-15T16:01:30.945Z"
   },
   {
    "duration": 40,
    "start_time": "2022-01-15T16:01:30.962Z"
   },
   {
    "duration": 26,
    "start_time": "2022-01-15T16:01:31.004Z"
   },
   {
    "duration": 562,
    "start_time": "2022-01-15T16:01:31.032Z"
   },
   {
    "duration": 23,
    "start_time": "2022-01-15T16:01:31.596Z"
   },
   {
    "duration": 18,
    "start_time": "2022-01-15T16:01:31.621Z"
   },
   {
    "duration": 23,
    "start_time": "2022-01-15T16:01:31.642Z"
   },
   {
    "duration": 42,
    "start_time": "2022-01-15T16:01:31.668Z"
   },
   {
    "duration": 545,
    "start_time": "2022-01-15T16:01:31.713Z"
   },
   {
    "duration": 700,
    "start_time": "2022-01-15T16:01:32.260Z"
   },
   {
    "duration": 5,
    "start_time": "2022-01-15T16:01:32.962Z"
   },
   {
    "duration": 17,
    "start_time": "2022-01-15T16:01:32.970Z"
   },
   {
    "duration": 29,
    "start_time": "2022-01-15T16:01:32.990Z"
   },
   {
    "duration": 964,
    "start_time": "2022-01-15T16:01:33.024Z"
   },
   {
    "duration": 25,
    "start_time": "2022-01-15T16:01:33.992Z"
   },
   {
    "duration": 12,
    "start_time": "2022-01-15T16:01:34.019Z"
   },
   {
    "duration": 470,
    "start_time": "2022-01-15T16:01:34.033Z"
   },
   {
    "duration": 19,
    "start_time": "2022-01-15T16:01:34.505Z"
   },
   {
    "duration": 625,
    "start_time": "2022-01-15T16:01:34.527Z"
   },
   {
    "duration": 7,
    "start_time": "2022-01-15T16:01:35.155Z"
   },
   {
    "duration": 674,
    "start_time": "2022-01-15T16:01:35.165Z"
   },
   {
    "duration": 13,
    "start_time": "2022-01-15T16:01:35.841Z"
   },
   {
    "duration": 4167,
    "start_time": "2022-01-15T16:01:35.857Z"
   },
   {
    "duration": 104,
    "start_time": "2022-01-15T16:01:40.027Z"
   },
   {
    "duration": 103,
    "start_time": "2022-01-15T16:01:40.133Z"
   },
   {
    "duration": 25,
    "start_time": "2022-01-15T16:01:40.239Z"
   },
   {
    "duration": 559,
    "start_time": "2022-01-15T16:01:40.267Z"
   },
   {
    "duration": 9,
    "start_time": "2022-01-15T16:01:40.828Z"
   },
   {
    "duration": 7,
    "start_time": "2022-01-15T16:01:40.839Z"
   },
   {
    "duration": 977,
    "start_time": "2022-01-15T16:01:40.849Z"
   },
   {
    "duration": 1043,
    "start_time": "2022-01-15T16:01:41.829Z"
   },
   {
    "duration": 951,
    "start_time": "2022-01-15T16:01:42.875Z"
   },
   {
    "duration": 973,
    "start_time": "2022-01-15T16:01:43.829Z"
   },
   {
    "duration": 993,
    "start_time": "2022-01-15T16:01:44.805Z"
   },
   {
    "duration": 1041,
    "start_time": "2022-01-15T16:01:45.802Z"
   },
   {
    "duration": 8,
    "start_time": "2022-01-15T16:01:46.846Z"
   },
   {
    "duration": 15,
    "start_time": "2022-01-15T16:01:46.856Z"
   },
   {
    "duration": 6,
    "start_time": "2022-01-15T16:01:46.873Z"
   },
   {
    "duration": 43,
    "start_time": "2022-01-15T16:01:46.881Z"
   },
   {
    "duration": 16,
    "start_time": "2022-01-15T16:01:46.926Z"
   },
   {
    "duration": 5,
    "start_time": "2022-01-15T16:01:46.945Z"
   },
   {
    "duration": 11,
    "start_time": "2022-01-15T16:01:46.952Z"
   },
   {
    "duration": 1506,
    "start_time": "2022-01-15T16:04:41.885Z"
   },
   {
    "duration": 48,
    "start_time": "2022-01-15T16:04:43.393Z"
   },
   {
    "duration": 33,
    "start_time": "2022-01-15T16:04:43.445Z"
   },
   {
    "duration": 15,
    "start_time": "2022-01-15T16:04:43.481Z"
   },
   {
    "duration": 13,
    "start_time": "2022-01-15T16:04:43.517Z"
   },
   {
    "duration": 9,
    "start_time": "2022-01-15T16:04:43.532Z"
   },
   {
    "duration": 9,
    "start_time": "2022-01-15T16:04:43.544Z"
   },
   {
    "duration": 62,
    "start_time": "2022-01-15T16:04:43.557Z"
   },
   {
    "duration": 6,
    "start_time": "2022-01-15T16:04:43.622Z"
   },
   {
    "duration": 7,
    "start_time": "2022-01-15T16:04:43.631Z"
   },
   {
    "duration": 27,
    "start_time": "2022-01-15T16:04:43.640Z"
   },
   {
    "duration": 46,
    "start_time": "2022-01-15T16:04:43.670Z"
   },
   {
    "duration": 529,
    "start_time": "2022-01-15T16:04:43.719Z"
   },
   {
    "duration": 17,
    "start_time": "2022-01-15T16:04:44.250Z"
   },
   {
    "duration": 11,
    "start_time": "2022-01-15T16:04:44.269Z"
   },
   {
    "duration": 12,
    "start_time": "2022-01-15T16:04:44.283Z"
   },
   {
    "duration": 48,
    "start_time": "2022-01-15T16:04:44.298Z"
   },
   {
    "duration": 561,
    "start_time": "2022-01-15T16:04:44.348Z"
   },
   {
    "duration": 723,
    "start_time": "2022-01-15T16:04:44.911Z"
   },
   {
    "duration": 5,
    "start_time": "2022-01-15T16:04:45.636Z"
   },
   {
    "duration": 26,
    "start_time": "2022-01-15T16:04:45.644Z"
   },
   {
    "duration": 9,
    "start_time": "2022-01-15T16:04:45.673Z"
   },
   {
    "duration": 777,
    "start_time": "2022-01-15T16:04:45.688Z"
   },
   {
    "duration": 10,
    "start_time": "2022-01-15T16:04:46.468Z"
   },
   {
    "duration": 40,
    "start_time": "2022-01-15T16:04:46.481Z"
   },
   {
    "duration": 474,
    "start_time": "2022-01-15T16:04:46.523Z"
   },
   {
    "duration": 25,
    "start_time": "2022-01-15T16:04:47.000Z"
   },
   {
    "duration": 625,
    "start_time": "2022-01-15T16:04:47.028Z"
   },
   {
    "duration": 8,
    "start_time": "2022-01-15T16:04:47.656Z"
   },
   {
    "duration": 581,
    "start_time": "2022-01-15T16:04:47.667Z"
   },
   {
    "duration": 14,
    "start_time": "2022-01-15T16:04:48.251Z"
   },
   {
    "duration": 4060,
    "start_time": "2022-01-15T16:04:48.268Z"
   },
   {
    "duration": 100,
    "start_time": "2022-01-15T16:04:52.331Z"
   },
   {
    "duration": 98,
    "start_time": "2022-01-15T16:04:52.434Z"
   },
   {
    "duration": 24,
    "start_time": "2022-01-15T16:04:52.534Z"
   },
   {
    "duration": 719,
    "start_time": "2022-01-15T16:04:52.560Z"
   },
   {
    "duration": 13,
    "start_time": "2022-01-15T16:04:53.282Z"
   },
   {
    "duration": 25,
    "start_time": "2022-01-15T16:04:53.298Z"
   },
   {
    "duration": 999,
    "start_time": "2022-01-15T16:04:53.325Z"
   },
   {
    "duration": 1066,
    "start_time": "2022-01-15T16:04:54.326Z"
   },
   {
    "duration": 964,
    "start_time": "2022-01-15T16:04:55.395Z"
   },
   {
    "duration": 973,
    "start_time": "2022-01-15T16:04:56.362Z"
   },
   {
    "duration": 1002,
    "start_time": "2022-01-15T16:04:57.337Z"
   },
   {
    "duration": 1057,
    "start_time": "2022-01-15T16:04:58.342Z"
   },
   {
    "duration": 15,
    "start_time": "2022-01-15T16:04:59.401Z"
   },
   {
    "duration": 20,
    "start_time": "2022-01-15T16:04:59.419Z"
   },
   {
    "duration": 22,
    "start_time": "2022-01-15T16:04:59.441Z"
   },
   {
    "duration": 12,
    "start_time": "2022-01-15T16:04:59.465Z"
   },
   {
    "duration": 53,
    "start_time": "2022-01-15T16:04:59.479Z"
   },
   {
    "duration": 8,
    "start_time": "2022-01-15T16:04:59.535Z"
   },
   {
    "duration": 10,
    "start_time": "2022-01-15T16:04:59.546Z"
   },
   {
    "duration": 1557,
    "start_time": "2022-01-15T16:06:25.939Z"
   },
   {
    "duration": 48,
    "start_time": "2022-01-15T16:06:27.499Z"
   },
   {
    "duration": 33,
    "start_time": "2022-01-15T16:06:27.551Z"
   },
   {
    "duration": 36,
    "start_time": "2022-01-15T16:06:27.587Z"
   },
   {
    "duration": 14,
    "start_time": "2022-01-15T16:06:27.625Z"
   },
   {
    "duration": 14,
    "start_time": "2022-01-15T16:06:27.641Z"
   },
   {
    "duration": 14,
    "start_time": "2022-01-15T16:06:27.657Z"
   },
   {
    "duration": 52,
    "start_time": "2022-01-15T16:06:27.675Z"
   },
   {
    "duration": 7,
    "start_time": "2022-01-15T16:06:27.729Z"
   },
   {
    "duration": 8,
    "start_time": "2022-01-15T16:06:27.738Z"
   },
   {
    "duration": 29,
    "start_time": "2022-01-15T16:06:27.748Z"
   },
   {
    "duration": 47,
    "start_time": "2022-01-15T16:06:27.779Z"
   },
   {
    "duration": 538,
    "start_time": "2022-01-15T16:06:27.829Z"
   },
   {
    "duration": 18,
    "start_time": "2022-01-15T16:06:28.370Z"
   },
   {
    "duration": 26,
    "start_time": "2022-01-15T16:06:28.391Z"
   },
   {
    "duration": 12,
    "start_time": "2022-01-15T16:06:28.419Z"
   },
   {
    "duration": 32,
    "start_time": "2022-01-15T16:06:28.434Z"
   },
   {
    "duration": 662,
    "start_time": "2022-01-15T16:06:28.469Z"
   },
   {
    "duration": 831,
    "start_time": "2022-01-15T16:06:29.134Z"
   },
   {
    "duration": 6,
    "start_time": "2022-01-15T16:06:29.968Z"
   },
   {
    "duration": 42,
    "start_time": "2022-01-15T16:06:29.977Z"
   },
   {
    "duration": 11,
    "start_time": "2022-01-15T16:06:30.021Z"
   },
   {
    "duration": 872,
    "start_time": "2022-01-15T16:06:30.038Z"
   },
   {
    "duration": 11,
    "start_time": "2022-01-15T16:06:30.917Z"
   },
   {
    "duration": 14,
    "start_time": "2022-01-15T16:06:30.930Z"
   },
   {
    "duration": 507,
    "start_time": "2022-01-15T16:06:30.947Z"
   },
   {
    "duration": 12,
    "start_time": "2022-01-15T16:06:31.456Z"
   },
   {
    "duration": 626,
    "start_time": "2022-01-15T16:06:31.470Z"
   },
   {
    "duration": 6,
    "start_time": "2022-01-15T16:06:32.098Z"
   },
   {
    "duration": 682,
    "start_time": "2022-01-15T16:06:32.107Z"
   },
   {
    "duration": 14,
    "start_time": "2022-01-15T16:06:32.792Z"
   },
   {
    "duration": 3993,
    "start_time": "2022-01-15T16:06:32.809Z"
   },
   {
    "duration": 84,
    "start_time": "2022-01-15T16:06:36.804Z"
   },
   {
    "duration": 100,
    "start_time": "2022-01-15T16:06:36.891Z"
   },
   {
    "duration": 47,
    "start_time": "2022-01-15T16:06:36.994Z"
   },
   {
    "duration": 671,
    "start_time": "2022-01-15T16:06:37.043Z"
   },
   {
    "duration": 11,
    "start_time": "2022-01-15T16:06:37.718Z"
   },
   {
    "duration": 8,
    "start_time": "2022-01-15T16:06:37.732Z"
   },
   {
    "duration": 953,
    "start_time": "2022-01-15T16:06:37.742Z"
   },
   {
    "duration": 1007,
    "start_time": "2022-01-15T16:06:38.697Z"
   },
   {
    "duration": 943,
    "start_time": "2022-01-15T16:06:39.706Z"
   },
   {
    "duration": 967,
    "start_time": "2022-01-15T16:06:40.652Z"
   },
   {
    "duration": 971,
    "start_time": "2022-01-15T16:06:41.622Z"
   },
   {
    "duration": 937,
    "start_time": "2022-01-15T16:06:42.595Z"
   },
   {
    "duration": 6,
    "start_time": "2022-01-15T16:06:43.534Z"
   },
   {
    "duration": 26,
    "start_time": "2022-01-15T16:06:43.542Z"
   },
   {
    "duration": 13,
    "start_time": "2022-01-15T16:06:43.570Z"
   },
   {
    "duration": 31,
    "start_time": "2022-01-15T16:06:43.586Z"
   },
   {
    "duration": 18,
    "start_time": "2022-01-15T16:06:43.620Z"
   },
   {
    "duration": 9,
    "start_time": "2022-01-15T16:06:43.640Z"
   },
   {
    "duration": 21,
    "start_time": "2022-01-15T16:06:43.652Z"
   }
  ],
  "kernelspec": {
   "display_name": "Python 3",
   "language": "python",
   "name": "python3"
  },
  "language_info": {
   "codemirror_mode": {
    "name": "ipython",
    "version": 3
   },
   "file_extension": ".py",
   "mimetype": "text/x-python",
   "name": "python",
   "nbconvert_exporter": "python",
   "pygments_lexer": "ipython3",
   "version": "3.8.8"
  },
  "toc": {
   "base_numbering": 1,
   "nav_menu": {},
   "number_sections": true,
   "sideBar": true,
   "skip_h1_title": true,
   "title_cell": "Table of Contents",
   "title_sidebar": "Contents",
   "toc_cell": false,
   "toc_position": {},
   "toc_section_display": true,
   "toc_window_display": false
  }
 },
 "nbformat": 4,
 "nbformat_minor": 2
}
